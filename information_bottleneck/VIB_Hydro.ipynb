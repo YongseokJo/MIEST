{
 "cells": [
  {
   "cell_type": "markdown",
   "metadata": {
    "tags": []
   },
   "source": [
    "## Imports"
   ]
  },
  {
   "cell_type": "code",
   "execution_count": 14,
   "metadata": {
    "tags": []
   },
   "outputs": [],
   "source": [
    "import numpy as np\n",
    "import matplotlib.pyplot as plt\n",
    "import time\n",
    "from collections import defaultdict\n",
    "\n",
    "import torch\n",
    "import torch.nn as nn\n",
    "from torch.nn import functional as F\n",
    "import torch.utils.data as data_utils\n",
    "from sklearn.linear_model import LinearRegression, Ridge, RidgeCV, Lasso\n",
    "import sklearn\n",
    "from torch.utils.data.sampler import SubsetRandomSampler\n",
    "\n",
    "# Device Config\n",
    "device = torch.device(\"cuda\" if torch.cuda.is_available() else \"cpu\")\n",
    "#device = 'cpu' # temporarily\n",
    "# Fix random seeds for reproducibility\n",
    "seed = 73\n",
    "#torch.manual_seed(seed)\n",
    "#np.random.seed(seed)"
   ]
  },
  {
   "cell_type": "markdown",
   "metadata": {
    "tags": []
   },
   "source": [
    "## VIB"
   ]
  },
  {
   "cell_type": "markdown",
   "metadata": {
    "jp-MarkdownHeadingCollapsed": true,
    "tags": []
   },
   "source": [
    "### Methods"
   ]
  },
  {
   "cell_type": "code",
   "execution_count": 16,
   "metadata": {},
   "outputs": [],
   "source": [
    "class VIB(nn.Module):\n",
    "    \"\"\"An implementation of the Variational Information Bottleneck Method.\"\"\"\n",
    "\n",
    "    def __init__(self, input_shape, output_shape, z_dim):\n",
    "        # We'll use the same encoder as before but predict additional parameters\n",
    "        #  for our distribution.\n",
    "        super(VIB,self).__init__()\n",
    "        \n",
    "        \n",
    "        self.input_shape    = input_shape\n",
    "        self.output_shape   = output_shape\n",
    "        self.z_shape        = z_dim #self.coef_dim*(self.coef_dim+3)/2\n",
    "        \n",
    "        self.nn_encoder = nn.Sequential(\n",
    "                            nn.Linear(self.input_shape,512),\n",
    "                            nn.GELU(),\n",
    "                            nn.LayerNorm(512),               \n",
    "                            nn.Linear(512,128),\n",
    "                            nn.LayerNorm(128),\n",
    "                            #nn.Linear(256,256),\n",
    "                            nn.ReLU(),\n",
    "                            #nn.LayerNorm(256),\n",
    "                            #nn.Linear(1024,128),\n",
    "                            #nn.GELU(),\n",
    "                            #nn.LayerNorm(128),\n",
    "                            )\n",
    "\n",
    "        #self.nn_token  = nn.Linear(128, self.coef_dim) \n",
    "        #self.nn_prob = nn.Linear(512, self.z_dim)\n",
    "\n",
    "        self.nn_weights  = nn.Linear(128, self.z_shape) \n",
    "        self.nn_std   = nn.Linear(128, self.z_shape)\n",
    "\n",
    "        self.nn_decoder = nn.Sequential(nn.Linear(self.z_shape, 32),\n",
    "                                        nn.GELU(),\n",
    "                                        nn.LayerNorm(32),\n",
    "                                        #nn.Linear(64, 16),\n",
    "                                        #nn.GELU(),\n",
    "                                        #nn.LayerNorm(16),\n",
    "                                        nn.Linear(32, self.output_shape))\n",
    "        \n",
    "    def encoder(self, x):\n",
    "        \"\"\"\n",
    "        x : (input_shape)\n",
    "        \"\"\"\n",
    "        x = self.nn_encoder(x)\n",
    "        #return self.nn_token(x), F.softplus(self.nn_prob(x)-5, beta=1)\n",
    "        return self.nn_weights(x), F.softplus(self.nn_weights(x)-5, beta=1)\n",
    "\n",
    "    def decoder(self, z):\n",
    "        \"\"\"\n",
    "        z : (candidate_size)\n",
    "        \"\"\" \n",
    "        return self.nn_decoder(z)\n",
    "\n",
    "    \n",
    "    \n",
    "    def reparameterise(self, mean, std):\n",
    "        \"\"\"\n",
    "        mean : (coef_dim)\n",
    "        std  : (coef_dim)       \n",
    "        \"\"\"        \n",
    "        # get epsilon from standard normal\n",
    "        eps = torch.randn_like(std)\n",
    "        return mean + std*eps\n",
    "\n",
    "    \n",
    "    def forward(self, x):\n",
    "        \"\"\"\n",
    "        Forward pass \n",
    "        \n",
    "        Parameters:\n",
    "        -----------\n",
    "        x : (input_shape)\n",
    "        \"\"\"\n",
    "        mu, std = self.encoder(x)\n",
    "        z = self.reparameterise(mu, std)\n",
    "        return self.decoder(z), mu, std\n",
    "    \n",
    "def vib_loss(y_pred, y, mu, std, beta=0.01):\n",
    "    \"\"\"    \n",
    "    y_pred : (output_shape)\n",
    "    y      : (output_shape)    \n",
    "    mu     : (z_dim)  \n",
    "    std    : (z_dim)\n",
    "    \"\"\"   \n",
    "    #CE = F.cross_entropy(y_pred, y, reduction='sum')\n",
    "    CE = torch.sum((y-y_pred)**2)\n",
    "    KL = 0.5 * torch.sum(mu.pow(2) + std.pow(2) - 2*std.log() - 1)\n",
    "    return (beta*KL + CE) / y.size(0)"
   ]
  },
  {
   "cell_type": "code",
   "execution_count": 25,
   "metadata": {},
   "outputs": [],
   "source": [
    "def train_vib(vib, train_loader, device,epochs=100,batch_size=50,test_dataset=None):\n",
    "    \n",
    "    # Optimiser\n",
    "    optimiser = torch.optim.Adam(vib.parameters(), lr=learning_rate)\n",
    "    #optimiser = torch.optim.SGD(vib.parameters(), lr=learning_rate)\n",
    "    scheduler = torch.optim.lr_scheduler.ExponentialLR(optimizer=optimiser, gamma=decay_rate)\n",
    "\n",
    "    \n",
    "    # Send to GPU if available\n",
    "    vib.to(device)\n",
    "    \n",
    "    # Training\n",
    "    measures = defaultdict(list)\n",
    "    start_time = time.time()\n",
    "\n",
    "    # put Deep VIB into train mode \n",
    "    vib.train()  \n",
    "\n",
    "    for epoch in range(epochs):\n",
    "        epoch_start_time = time.time()  \n",
    "\n",
    "        # exponential decay of learning rate every 2 epochs\n",
    "        if epoch % 10 == 0 and epoch > 0:\n",
    "            scheduler.step()    \n",
    "            pass\n",
    "\n",
    "        batch_loss = 0\n",
    "        batch_accuracy = 0\n",
    "        for _, (X,y) in enumerate(train_loader): \n",
    "            X = X.to(device)        \n",
    "            y = y.float().to(device)\n",
    "\n",
    "            vib.zero_grad()\n",
    "            y_pred, mu, std = vib(X)\n",
    "            loss = vib_loss(y_pred, y, mu, std)\n",
    "            loss.backward()\n",
    "            optimiser.step()  \n",
    "\n",
    "            batch_loss += loss.item()*X.size(0) \n",
    "            batch_accuracy += torch.sum(torch.abs(y - y_pred)/y)/batch_size     \n",
    "            \n",
    "        if test_dataset is not None:\n",
    "            X, y = test_dataset.tensors\n",
    "            y_pred, _,_ = vib(torch.tensor(X,dtype=torch.float).to(device))\n",
    "            y_pred = y_pred.cpu().detach().numpy()\n",
    "            test_accuray = np.abs(y-y_pred)/y\n",
    "            #print(test_accuray.max())\n",
    "            test_accuray = test_accuray.mean(axis=0)\n",
    "            #test_accuray = test_accuray.mean()\n",
    "            #print(test_accuray)\n",
    "        else:\n",
    "            test_accuray = -1.0\n",
    "        # Save losses per epoch\n",
    "        measures['total_loss'].append(batch_loss / len(train_loader.dataset))        \n",
    "        # Save accuracy per epoch\n",
    "        measures['accuracy'].append(batch_accuracy.cpu().detach() / len(train_loader.dataset))            \n",
    "        if (epoch + 1) % 100 == 0 and epoch > 0:\n",
    "            print(\"Epoch: {}/{}...\".format(epoch+1, epochs),\n",
    "                  \"Loss: {:.4f}...\".format(measures['total_loss'][-1]),\n",
    "                  \"Accuracy: {:.4f}...\".format(measures['accuracy'][-1]),\n",
    "                  \"Test Om: {:.3f} sig: {:.3f}\".format(test_accuray[0],test_accuray[1]))\n",
    "                  #\"Time Taken: {:,.4f} seconds\".format(time.time()-epoch_start_time))\n",
    "            \n",
    "    #torch.save(vib.state_dict(),\"./models/model_LH_DMO_J_{}_L_{}_sigma_{}_power_{}.npy\".format(J,L,sigma,integral_powers))\n",
    "    return np.mean(measures['total_loss'][-10:]), np.mean(measures['accuracy'][-10:])"
   ]
  },
  {
   "cell_type": "markdown",
   "metadata": {
    "jp-MarkdownHeadingCollapsed": true,
    "tags": []
   },
   "source": [
    "### Data load"
   ]
  },
  {
   "cell_type": "code",
   "execution_count": 36,
   "metadata": {
    "tags": []
   },
   "outputs": [
    {
     "name": "stdout",
     "output_type": "stream",
     "text": [
      "(2000, 513) (2000, 2)\n"
     ]
    },
    {
     "name": "stderr",
     "output_type": "stream",
     "text": [
      "/tmp/ipykernel_4002162/491538376.py:12: ComplexWarning: Casting complex values to real discards the imaginary part\n",
      "  gcoef_avg[i,:] = coef[i*15:i*15+15,:].mean(axis=0)\n",
      "/tmp/ipykernel_4002162/491538376.py:16: ComplexWarning: Casting complex values to real discards the imaginary part\n",
      "  rcoef_avg[i,:] = coef[i*15:i*15+15,:].mean(axis=0)\n"
     ]
    }
   ],
   "source": [
    "fparam = '/mnt/home/fvillaescusa/CAMELS/PUBLIC_RELEASE/CMD/2D_maps/data/params_IllustrisTNG.txt'\n",
    "gparams = np.loadtxt(fparam)\n",
    "gparams = gparams[:,:2] ## only Om and Sig8\n",
    "fparam = '/mnt/home/fvillaescusa/CAMELS/PUBLIC_RELEASE/CMD/2D_maps/data/params_SIMBA.txt'\n",
    "rparams = np.loadtxt(fparam)\n",
    "rparams = rparams[:,:2] ## only Om and Sig8\n",
    "params  = np.r_[gparams, rparams]\n",
    "\n",
    "coef = np.load(\"/mnt/home/yjo10/ceph/CAMELS/MIEST/data/wph_nIllustrisTNG_for_vib_total.npy\")\n",
    "gcoef_avg = np.zeros((1000, coef.shape[1]))\n",
    "for i in range(1000):\n",
    "    gcoef_avg[i,:] = coef[i*15:i*15+15,:].mean(axis=0)\n",
    "coef = np.load(\"/mnt/home/yjo10/ceph/CAMELS/MIEST/data/wph_nSIMBA_for_vib_total.npy\")\n",
    "rcoef_avg = np.zeros((1000, coef.shape[1]))\n",
    "for i in range(1000):\n",
    "    rcoef_avg[i,:] = coef[i*15:i*15+15,:].mean(axis=0)\n",
    "coef = np.r_[gcoef_avg, rcoef_avg]\n",
    "print(coef.shape, params.shape)"
   ]
  },
  {
   "cell_type": "markdown",
   "metadata": {
    "jp-MarkdownHeadingCollapsed": true,
    "tags": []
   },
   "source": [
    "### Normalizations & Dataset for training"
   ]
  },
  {
   "cell_type": "code",
   "execution_count": 37,
   "metadata": {
    "tags": []
   },
   "outputs": [],
   "source": [
    "batch_size = 100\n",
    "validation_split = .2\n",
    "shuffle_dataset = True\n",
    "random_seed= 42\n",
    "\n",
    "# Creating data indices for training and validation splits:\n",
    "y = torch.tensor(params,dtype=torch.float)\n",
    "X = torch.tensor(np.absolute(coef),dtype=torch.float)\n",
    "dataset      = data_utils.TensorDataset(X, y)\n",
    "dataset_size = len(dataset)\n",
    "indices      = list(range(dataset_size))\n",
    "split        = int(np.floor(validation_split * dataset_size))\n",
    "if shuffle_dataset :\n",
    "    np.random.seed(random_seed)\n",
    "    np.random.shuffle(indices)\n",
    "train_indices, val_indices = indices[split:], indices[:split]\n",
    "\n",
    "# Creating PT data samplers and loaders:\n",
    "train_sampler = SubsetRandomSampler(train_indices)\n",
    "valid_sampler = SubsetRandomSampler(val_indices)\n",
    "\n",
    "train_loader  = torch.utils.data.DataLoader(dataset, batch_size=batch_size, \n",
    "                                           sampler=train_sampler)\n",
    "test_dataset      = data_utils.TensorDataset(X[val_indices], y[val_indices])"
   ]
  },
  {
   "cell_type": "markdown",
   "metadata": {
    "tags": []
   },
   "source": [
    "### Training VIB"
   ]
  },
  {
   "cell_type": "code",
   "execution_count": 38,
   "metadata": {},
   "outputs": [
    {
     "name": "stderr",
     "output_type": "stream",
     "text": [
      "/tmp/ipykernel_4002162/2107878760.py:44: UserWarning: To copy construct from a tensor, it is recommended to use sourceTensor.clone().detach() or sourceTensor.clone().detach().requires_grad_(True), rather than torch.tensor(sourceTensor).\n",
      "  y_pred, _,_ = vib(torch.tensor(X,dtype=torch.float).to(device))\n"
     ]
    },
    {
     "name": "stdout",
     "output_type": "stream",
     "text": [
      "Epoch: 100/3000... Loss: 6.4225... Accuracy: 0.0020... Test Om: 0.132 sig: 0.073\n",
      "Epoch: 200/3000... Loss: 6.4202... Accuracy: 0.0016... Test Om: 0.110 sig: 0.070\n",
      "Epoch: 300/3000... Loss: 6.4192... Accuracy: 0.0013... Test Om: 0.132 sig: 0.058\n",
      "Epoch: 400/3000... Loss: 6.4187... Accuracy: 0.0011... Test Om: 0.088 sig: 0.070\n",
      "Epoch: 500/3000... Loss: 6.4180... Accuracy: 0.0010... Test Om: 0.088 sig: 0.051\n",
      "Epoch: 600/3000... Loss: 6.4180... Accuracy: 0.0010... Test Om: 0.075 sig: 0.051\n",
      "Epoch: 700/3000... Loss: 6.4174... Accuracy: 0.0009... Test Om: 0.071 sig: 0.047\n",
      "Epoch: 800/3000... Loss: 6.4171... Accuracy: 0.0009... Test Om: 0.072 sig: 0.049\n",
      "Epoch: 900/3000... Loss: 6.4170... Accuracy: 0.0009... Test Om: 0.076 sig: 0.044\n",
      "Epoch: 1000/3000... Loss: 6.4169... Accuracy: 0.0009... Test Om: 0.078 sig: 0.045\n",
      "Epoch: 1100/3000... Loss: 6.4167... Accuracy: 0.0008... Test Om: 0.067 sig: 0.043\n",
      "Epoch: 1200/3000... Loss: 6.4166... Accuracy: 0.0008... Test Om: 0.074 sig: 0.043\n",
      "Epoch: 1300/3000... Loss: 6.4165... Accuracy: 0.0008... Test Om: 0.063 sig: 0.042\n",
      "Epoch: 1400/3000... Loss: 6.4165... Accuracy: 0.0008... Test Om: 0.064 sig: 0.045\n",
      "Epoch: 1500/3000... Loss: 6.4164... Accuracy: 0.0008... Test Om: 0.065 sig: 0.042\n",
      "Epoch: 1600/3000... Loss: 6.4165... Accuracy: 0.0008... Test Om: 0.066 sig: 0.042\n",
      "Epoch: 1700/3000... Loss: 6.4164... Accuracy: 0.0008... Test Om: 0.065 sig: 0.041\n",
      "Epoch: 1800/3000... Loss: 6.4164... Accuracy: 0.0008... Test Om: 0.066 sig: 0.041\n",
      "Epoch: 1900/3000... Loss: 6.4164... Accuracy: 0.0008... Test Om: 0.067 sig: 0.040\n",
      "Epoch: 2000/3000... Loss: 6.4163... Accuracy: 0.0008... Test Om: 0.062 sig: 0.041\n",
      "Epoch: 2100/3000... Loss: 6.4163... Accuracy: 0.0008... Test Om: 0.069 sig: 0.040\n",
      "Epoch: 2200/3000... Loss: 6.4163... Accuracy: 0.0008... Test Om: 0.066 sig: 0.041\n",
      "Epoch: 2300/3000... Loss: 6.4163... Accuracy: 0.0008... Test Om: 0.065 sig: 0.040\n",
      "Epoch: 2400/3000... Loss: 6.4163... Accuracy: 0.0008... Test Om: 0.063 sig: 0.041\n",
      "Epoch: 2500/3000... Loss: 6.4163... Accuracy: 0.0008... Test Om: 0.064 sig: 0.042\n",
      "Epoch: 2600/3000... Loss: 6.4163... Accuracy: 0.0008... Test Om: 0.064 sig: 0.041\n",
      "Epoch: 2700/3000... Loss: 6.4164... Accuracy: 0.0008... Test Om: 0.067 sig: 0.040\n",
      "Epoch: 2800/3000... Loss: 6.4163... Accuracy: 0.0008... Test Om: 0.063 sig: 0.041\n",
      "Epoch: 2900/3000... Loss: 6.4163... Accuracy: 0.0008... Test Om: 0.065 sig: 0.043\n",
      "Epoch: 3000/3000... Loss: 6.4163... Accuracy: 0.0007... Test Om: 0.066 sig: 0.040\n"
     ]
    }
   ],
   "source": [
    "# Hyperparameters\n",
    "beta   = 1e-3\n",
    "input_shape  = coef.shape[1]\n",
    "output_shape = 2\n",
    "learning_rate = 1e-3\n",
    "decay_rate = 0.97\n",
    "z_dim = 200\n",
    "epochs = 3000\n",
    "\n",
    "\n",
    "vib = VIB(input_shape, output_shape,z_dim)\n",
    "total_loss, accuracy = train_vib(vib, train_loader, device, epochs,batch_size,test_dataset)\n",
    "#del vib"
   ]
  },
  {
   "cell_type": "code",
   "execution_count": 39,
   "metadata": {},
   "outputs": [
    {
     "name": "stdout",
     "output_type": "stream",
     "text": [
      "tensor(0.0647) 0.9552345895203311\n",
      "tensor(0.0396) 0.875971550599124\n"
     ]
    },
    {
     "name": "stderr",
     "output_type": "stream",
     "text": [
      "/tmp/ipykernel_4002162/2405665974.py:3: UserWarning: To copy construct from a tensor, it is recommended to use sourceTensor.clone().detach() or sourceTensor.clone().detach().requires_grad_(True), rather than torch.tensor(sourceTensor).\n",
      "  y_pred, mu, std = vib(torch.tensor(X,dtype=torch.float).to(device))\n"
     ]
    },
    {
     "data": {
      "text/plain": [
       "<matplotlib.collections.PathCollection at 0x15545e773580>"
      ]
     },
     "execution_count": 39,
     "metadata": {},
     "output_type": "execute_result"
    },
    {
     "data": {
      "image/png": "[encoded data removed]",
      "text/plain": [
       "<Figure size 720x360 with 2 Axes>"
      ]
     },
     "metadata": {
      "needs_background": "light"
     },
     "output_type": "display_data"
    }
   ],
   "source": [
    "vib.eval()\n",
    "X, y =test_dataset.tensors\n",
    "y_pred, mu, std = vib(torch.tensor(X,dtype=torch.float).to(device))\n",
    "y_pred = y_pred.cpu().detach().numpy()\n",
    "\n",
    "rel1 = np.abs(y[:,0]-y_pred[:,0])/y[:,0]\n",
    "rel2 = np.abs(y[:,1]-y_pred[:,1])/y[:,1]\n",
    "print(rel1.mean(),sklearn.metrics.r2_score(y[:,0],y_pred[:,0]))\n",
    "print(rel2.mean(),sklearn.metrics.r2_score(y[:,1],y_pred[:,1]))\n",
    "fig = plt.figure(figsize=(10,5))\n",
    "fig.add_subplot(1,2,1)\n",
    "plt.scatter(y[:,0],y_pred[:,0])\n",
    "fig.add_subplot(1,2,2)\n",
    "plt.scatter(y[:,1],y_pred[:,1])"
   ]
  },
  {
   "cell_type": "markdown",
   "metadata": {},
   "source": [
    "## Without normalization"
   ]
  },
  {
   "cell_type": "markdown",
   "metadata": {
    "tags": []
   },
   "source": [
    "### Data load"
   ]
  },
  {
   "cell_type": "code",
   "execution_count": 9,
   "metadata": {
    "tags": []
   },
   "outputs": [
    {
     "name": "stdout",
     "output_type": "stream",
     "text": [
      "(2000, 513) (2000, 2)\n"
     ]
    },
    {
     "name": "stderr",
     "output_type": "stream",
     "text": [
      "/tmp/ipykernel_3999245/1726218710.py:12: ComplexWarning: Casting complex values to real discards the imaginary part\n",
      "  gcoef_avg[i,:] = coef[i*15:i*15+15,:].mean(axis=0)\n",
      "/tmp/ipykernel_3999245/1726218710.py:16: ComplexWarning: Casting complex values to real discards the imaginary part\n",
      "  rcoef_avg[i,:] = coef[i*15:i*15+15,:].mean(axis=0)\n"
     ]
    }
   ],
   "source": [
    "fparam = '/mnt/home/fvillaescusa/CAMELS/PUBLIC_RELEASE/CMD/2D_maps/data/params_IllustrisTNG.txt'\n",
    "gparams = np.loadtxt(fparam)\n",
    "gparams = gparams[:,:2] ## only Om and Sig8\n",
    "fparam = '/mnt/home/fvillaescusa/CAMELS/PUBLIC_RELEASE/CMD/2D_maps/data/params_SIMBA.txt'\n",
    "rparams = np.loadtxt(fparam)\n",
    "rparams = rparams[:,:2] ## only Om and Sig8\n",
    "params  = np.r_[gparams, rparams]\n",
    "\n",
    "coef = np.load(\"/mnt/home/yjo10/ceph/CAMELS/MIEST/data/wph_IllustrisTNG_for_vib_total.npy\")\n",
    "gcoef_avg = np.zeros((1000, coef.shape[1]))\n",
    "for i in range(1000):\n",
    "    gcoef_avg[i,:] = coef[i*15:i*15+15,:].mean(axis=0)\n",
    "coef = np.load(\"/mnt/home/yjo10/ceph/CAMELS/MIEST/data/wph_SIMBA_for_vib_total.npy\")\n",
    "rcoef_avg = np.zeros((1000, coef.shape[1]))\n",
    "for i in range(1000):\n",
    "    rcoef_avg[i,:] = coef[i*15:i*15+15,:].mean(axis=0)\n",
    "coef = np.r_[gcoef_avg, rcoef_avg]\n",
    "print(coef.shape, params.shape)"
   ]
  },
  {
   "cell_type": "markdown",
   "metadata": {
    "tags": []
   },
   "source": [
    "### Normalizations & Dataset for training"
   ]
  },
  {
   "cell_type": "code",
   "execution_count": 10,
   "metadata": {
    "tags": []
   },
   "outputs": [],
   "source": [
    "batch_size = 100\n",
    "validation_split = .2\n",
    "shuffle_dataset = True\n",
    "random_seed= 42\n",
    "\n",
    "# Creating data indices for training and validation splits:\n",
    "y = torch.tensor(params,dtype=torch.float)\n",
    "X = torch.tensor(coef,dtype=torch.float)\n",
    "dataset      = data_utils.TensorDataset(X, y)\n",
    "dataset_size = len(dataset)\n",
    "indices      = list(range(dataset_size))\n",
    "split        = int(np.floor(validation_split * dataset_size))\n",
    "if shuffle_dataset :\n",
    "    np.random.seed(random_seed)\n",
    "    np.random.shuffle(indices)\n",
    "train_indices, val_indices = indices[split:], indices[:split]\n",
    "\n",
    "# Creating PT data samplers and loaders:\n",
    "train_sampler = SubsetRandomSampler(train_indices)\n",
    "valid_sampler = SubsetRandomSampler(val_indices)\n",
    "\n",
    "train_loader  = torch.utils.data.DataLoader(dataset, batch_size=batch_size, \n",
    "                                           sampler=train_sampler)\n",
    "test_dataset      = data_utils.TensorDataset(X[val_indices], y[val_indices])"
   ]
  },
  {
   "cell_type": "markdown",
   "metadata": {
    "tags": []
   },
   "source": [
    "### Training VIB"
   ]
  },
  {
   "cell_type": "code",
   "execution_count": 11,
   "metadata": {},
   "outputs": [
    {
     "name": "stderr",
     "output_type": "stream",
     "text": [
      "/tmp/ipykernel_3999245/2107878760.py:44: UserWarning: To copy construct from a tensor, it is recommended to use sourceTensor.clone().detach() or sourceTensor.clone().detach().requires_grad_(True), rather than torch.tensor(sourceTensor).\n",
      "  y_pred, _,_ = vib(torch.tensor(X,dtype=torch.float).to(device))\n"
     ]
    },
    {
     "name": "stdout",
     "output_type": "stream",
     "text": [
      "Epoch: 100/3000... Loss: 1.6215... Accuracy: 0.0038... Test Om: 0.382 sig: 0.113\n",
      "Epoch: 200/3000... Loss: 1.6207... Accuracy: 0.0037... Test Om: 0.373 sig: 0.106\n",
      "Epoch: 300/3000... Loss: 1.6197... Accuracy: 0.0035... Test Om: 0.339 sig: 0.113\n",
      "Epoch: 400/3000... Loss: 1.6191... Accuracy: 0.0034... Test Om: 0.343 sig: 0.107\n",
      "Epoch: 500/3000... Loss: 1.6189... Accuracy: 0.0034... Test Om: 0.335 sig: 0.102\n",
      "Epoch: 600/3000... Loss: 1.6185... Accuracy: 0.0032... Test Om: 0.386 sig: 0.100\n",
      "Epoch: 700/3000... Loss: 1.6179... Accuracy: 0.0032... Test Om: 0.342 sig: 0.101\n",
      "Epoch: 800/3000... Loss: 1.6176... Accuracy: 0.0031... Test Om: 0.323 sig: 0.097\n",
      "Epoch: 900/3000... Loss: 1.6171... Accuracy: 0.0030... Test Om: 0.328 sig: 0.098\n",
      "Epoch: 1000/3000... Loss: 1.6167... Accuracy: 0.0030... Test Om: 0.330 sig: 0.097\n",
      "Epoch: 1100/3000... Loss: 1.6166... Accuracy: 0.0030... Test Om: 0.322 sig: 0.100\n",
      "Epoch: 1200/3000... Loss: 1.6164... Accuracy: 0.0029... Test Om: 0.333 sig: 0.100\n",
      "Epoch: 1300/3000... Loss: 1.6163... Accuracy: 0.0029... Test Om: 0.327 sig: 0.100\n",
      "Epoch: 1400/3000... Loss: 1.6163... Accuracy: 0.0029... Test Om: 0.329 sig: 0.099\n",
      "Epoch: 1500/3000... Loss: 1.6161... Accuracy: 0.0028... Test Om: 0.327 sig: 0.099\n",
      "Epoch: 1600/3000... Loss: 1.6160... Accuracy: 0.0028... Test Om: 0.327 sig: 0.100\n",
      "Epoch: 1700/3000... Loss: 1.6159... Accuracy: 0.0028... Test Om: 0.324 sig: 0.101\n",
      "Epoch: 1800/3000... Loss: 1.6159... Accuracy: 0.0028... Test Om: 0.321 sig: 0.100\n",
      "Epoch: 1900/3000... Loss: 1.6159... Accuracy: 0.0028... Test Om: 0.324 sig: 0.099\n",
      "Epoch: 2000/3000... Loss: 1.6159... Accuracy: 0.0028... Test Om: 0.327 sig: 0.101\n",
      "Epoch: 2100/3000... Loss: 1.6159... Accuracy: 0.0028... Test Om: 0.325 sig: 0.100\n",
      "Epoch: 2200/3000... Loss: 1.6159... Accuracy: 0.0028... Test Om: 0.329 sig: 0.100\n",
      "Epoch: 2300/3000... Loss: 1.6159... Accuracy: 0.0028... Test Om: 0.326 sig: 0.101\n",
      "Epoch: 2400/3000... Loss: 1.6158... Accuracy: 0.0028... Test Om: 0.326 sig: 0.101\n",
      "Epoch: 2500/3000... Loss: 1.6158... Accuracy: 0.0028... Test Om: 0.322 sig: 0.099\n",
      "Epoch: 2600/3000... Loss: 1.6158... Accuracy: 0.0028... Test Om: 0.324 sig: 0.101\n",
      "Epoch: 2700/3000... Loss: 1.6159... Accuracy: 0.0028... Test Om: 0.324 sig: 0.100\n",
      "Epoch: 2800/3000... Loss: 1.6159... Accuracy: 0.0028... Test Om: 0.325 sig: 0.101\n",
      "Epoch: 2900/3000... Loss: 1.6158... Accuracy: 0.0028... Test Om: 0.328 sig: 0.101\n",
      "Epoch: 3000/3000... Loss: 1.6158... Accuracy: 0.0028... Test Om: 0.326 sig: 0.100\n"
     ]
    }
   ],
   "source": [
    "# Hyperparameters\n",
    "beta   = 1e-3\n",
    "input_shape  = coef.shape[1]\n",
    "output_shape = 2\n",
    "learning_rate = 1e-3\n",
    "decay_rate = 0.97\n",
    "z_dim = 50\n",
    "epochs = 3000\n",
    "\n",
    "\n",
    "vib = VIB(input_shape, output_shape,z_dim)\n",
    "total_loss, accuracy = train_vib(vib, train_loader, device, epochs,batch_size,test_dataset)\n",
    "#del vib"
   ]
  },
  {
   "cell_type": "code",
   "execution_count": 12,
   "metadata": {},
   "outputs": [
    {
     "name": "stdout",
     "output_type": "stream",
     "text": [
      "tensor(0.3245)\n",
      "tensor(0.1008)\n"
     ]
    },
    {
     "name": "stderr",
     "output_type": "stream",
     "text": [
      "/tmp/ipykernel_3999245/1209562079.py:3: UserWarning: To copy construct from a tensor, it is recommended to use sourceTensor.clone().detach() or sourceTensor.clone().detach().requires_grad_(True), rather than torch.tensor(sourceTensor).\n",
      "  y_pred, mu, std = vib(torch.tensor(X,dtype=torch.float).to(device))\n"
     ]
    },
    {
     "data": {
      "text/plain": [
       "<matplotlib.collections.PathCollection at 0x15546e14d3a0>"
      ]
     },
     "execution_count": 12,
     "metadata": {},
     "output_type": "execute_result"
    },
    {
     "data": {
      "image/png": "[encoded data removed]",
      "text/plain": [
       "<Figure size 720x360 with 2 Axes>"
      ]
     },
     "metadata": {
      "needs_background": "light"
     },
     "output_type": "display_data"
    }
   ],
   "source": [
    "vib.eval()\n",
    "X, y =test_dataset.tensors\n",
    "y_pred, mu, std = vib(torch.tensor(X,dtype=torch.float).to(device))\n",
    "y_pred = y_pred.cpu().detach().numpy()\n",
    "\n",
    "rel1 = np.abs(y[:,0]-y_pred[:,0])/y[:,0]\n",
    "rel2 = np.abs(y[:,1]-y_pred[:,1])/y[:,1]\n",
    "print(rel1.mean())\n",
    "print(rel2.mean())\n",
    "fig = plt.figure(figsize=(10,5))\n",
    "fig.add_subplot(1,2,1)\n",
    "plt.scatter(y[:,0],y_pred[:,0])\n",
    "fig.add_subplot(1,2,2)\n",
    "plt.scatter(y[:,1],y_pred[:,1])"
   ]
  },
  {
   "cell_type": "code",
   "execution_count": null,
   "metadata": {},
   "outputs": [],
   "source": []
  },
  {
   "cell_type": "code",
   "execution_count": null,
   "metadata": {},
   "outputs": [],
   "source": []
  },
  {
   "cell_type": "code",
   "execution_count": null,
   "metadata": {},
   "outputs": [],
   "source": []
  },
  {
   "cell_type": "code",
   "execution_count": null,
   "metadata": {},
   "outputs": [],
   "source": []
  },
  {
   "cell_type": "code",
   "execution_count": null,
   "metadata": {},
   "outputs": [],
   "source": []
  },
  {
   "cell_type": "code",
   "execution_count": null,
   "metadata": {},
   "outputs": [],
   "source": []
  }
 ],
 "metadata": {
  "accelerator": "GPU",
  "colab": {
   "name": "VIBDemo2021.ipynb",
   "provenance": []
  },
  "kernelspec": {
   "display_name": "venv",
   "language": "python",
   "name": "venv"
  },
  "language_info": {
   "codemirror_mode": {
    "name": "ipython",
    "version": 3
   },
   "file_extension": ".py",
   "mimetype": "text/x-python",
   "name": "python",
   "nbconvert_exporter": "python",
   "pygments_lexer": "ipython3",
   "version": "3.9.12"
  }
 },
 "nbformat": 4,
 "nbformat_minor": 4
}
