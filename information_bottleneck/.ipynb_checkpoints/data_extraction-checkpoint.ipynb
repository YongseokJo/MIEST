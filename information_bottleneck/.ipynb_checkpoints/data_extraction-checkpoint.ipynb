{
 "cells": [
  {
   "cell_type": "code",
   "execution_count": 2,
   "id": "cb646caf-38be-4907-97ac-aaf644d18252",
   "metadata": {},
   "outputs": [],
   "source": [
    "import pywph as pw\n",
    "import numpy as np\n",
    "import torch\n",
    "import torch.utils.data as data_utils\n",
    "from torch.utils.data.sampler import SubsetRandomSampler\n",
    "from sklearn.linear_model import LinearRegression, Ridge, RidgeCV, Lasso\n",
    "import sklearn\n",
    "import matplotlib.pyplot as plt\n",
    "# Device Config\n",
    "device = torch.device(\"cuda\" if torch.cuda.is_available() else \"cpu\")"
   ]
  },
  {
   "cell_type": "markdown",
   "id": "d40b0222-b235-4c25-8076-c8f3e68c82f7",
   "metadata": {
    "tags": []
   },
   "source": [
    "## Gadget & Ramses"
   ]
  },
  {
   "cell_type": "code",
   "execution_count": 2,
   "id": "e21c3a21-405e-45ee-bdf7-6c0ac8a255e3",
   "metadata": {},
   "outputs": [],
   "source": [
    "fmap = \"/mnt/ceph/users/fvillaescusa/Nbody_systematics/data/maps/maps_Gadget/Images_M_Gadget_LH_z=0.00.npy\"\n",
    "gmap = np.log10(np.load(fmap))\n",
    "fmap = \"/mnt/ceph/users/fvillaescusa/Nbody_systematics/data/maps/maps_Ramses/Images_M_Ramses_LH_z=0.00.npy\"\n",
    "rmap = np.log10(np.load(fmap))"
   ]
  },
  {
   "cell_type": "code",
   "execution_count": 15,
   "id": "6e4014a3-2879-46cf-aef0-316dc2eab078",
   "metadata": {},
   "outputs": [
    {
     "name": "stderr",
     "output_type": "stream",
     "text": [
      "/tmp/ipykernel_3995025/1214241697.py:25: DeprecationWarning: Converting `np.complex` to a dtype is deprecated. The current result is `complex128` which is not strictly correct.\n",
      "  coef = np.zeros((N*batch_size,num_coeffs), dtype=np.complexfloating)\n"
     ]
    }
   ],
   "source": [
    "J = 7; L = 4; dn = 0\n",
    "maps = gmap\n",
    "nmaps = maps.reshape(maps.shape[0],-1)\n",
    "nmaps = (nmaps.T - nmaps.mean(axis=1))/nmaps.std(axis=1)\n",
    "#nmaps = (nmaps.T - nmaps.min(axis=1))/(nmaps.max(axis=1)-nmaps.min(axis=1)\n",
    "nmaps = nmaps.T.reshape(15000,256,256)\n",
    "\n",
    "M, N = 256, 256\n",
    "J = 7\n",
    "L = 4\n",
    "dn = 0\n",
    "try: \n",
    "    del coef\n",
    "except:\n",
    "    pass\n",
    "wph_op = pw.WPHOp(M, N, J, L=L, dn=dn, device=0)\n",
    "batch_size = 100\n",
    "N = int(15000/batch_size)\n",
    "for i in range(N):\n",
    "    wph = wph_op(nmaps[batch_size*i:batch_size*(i+1),:,:])\n",
    "    try:\n",
    "        coef[batch_size*i:batch_size*(i+1),:] = wph.cpu().detach().numpy()\n",
    "    except:\n",
    "        num_coeffs = wph.shape[1]\n",
    "        coef = np.zeros((N*batch_size,num_coeffs), dtype=np.complexfloating)\n",
    "        coef[batch_size*i:batch_size*(i+1),:] = wph.cpu().detach().numpy()\n",
    "np.save(\"../data/wph_nGadget_for_vib_total\",coef)"
   ]
  },
  {
   "cell_type": "code",
   "execution_count": 22,
   "id": "21725284-a523-4b47-b6c1-b9b1b8f83e21",
   "metadata": {},
   "outputs": [
    {
     "ename": "NameError",
     "evalue": "name 'gamp' is not defined",
     "output_type": "error",
     "traceback": [
      "\u001b[0;31m---------------------------------------------------------------------------\u001b[0m",
      "\u001b[0;31mNameError\u001b[0m                                 Traceback (most recent call last)",
      "Input \u001b[0;32mIn [22]\u001b[0m, in \u001b[0;36m<module>\u001b[0;34m\u001b[0m\n\u001b[1;32m     13\u001b[0m N \u001b[38;5;241m=\u001b[39m \u001b[38;5;28mint\u001b[39m(\u001b[38;5;241m15000\u001b[39m\u001b[38;5;241m/\u001b[39mbatch_size)\n\u001b[1;32m     14\u001b[0m \u001b[38;5;28;01mfor\u001b[39;00m i \u001b[38;5;129;01min\u001b[39;00m \u001b[38;5;28mrange\u001b[39m(N):\n\u001b[0;32m---> 15\u001b[0m     wph \u001b[38;5;241m=\u001b[39m wph_op(\u001b[43mgamp\u001b[49m[batch_size\u001b[38;5;241m*\u001b[39mi:batch_size\u001b[38;5;241m*\u001b[39m(i\u001b[38;5;241m+\u001b[39m\u001b[38;5;241m1\u001b[39m),:,:])\n\u001b[1;32m     16\u001b[0m     \u001b[38;5;28;01mtry\u001b[39;00m:\n\u001b[1;32m     17\u001b[0m         coef[batch_size\u001b[38;5;241m*\u001b[39mi:batch_size\u001b[38;5;241m*\u001b[39m(i\u001b[38;5;241m+\u001b[39m\u001b[38;5;241m1\u001b[39m),:] \u001b[38;5;241m=\u001b[39m wph\u001b[38;5;241m.\u001b[39mcpu()\u001b[38;5;241m.\u001b[39mdetach()\u001b[38;5;241m.\u001b[39mnumpy()\n",
      "\u001b[0;31mNameError\u001b[0m: name 'gamp' is not defined"
     ]
    }
   ],
   "source": [
    "J = 7; L = 4; dn = 0\n",
    "\n",
    "M, N = 256, 256\n",
    "J = 7\n",
    "L = 4\n",
    "dn = 0\n",
    "try: \n",
    "    del coef\n",
    "except:\n",
    "    pass\n",
    "wph_op = pw.WPHOp(M, N, J, L=L, dn=dn, device=0)\n",
    "batch_size = 100\n",
    "N = int(15000/batch_size)\n",
    "for i in range(N):\n",
    "    wph = wph_op(gamp[batch_size*i:batch_size*(i+1),:,:])\n",
    "    try:\n",
    "        coef[batch_size*i:batch_size*(i+1),:] = wph.cpu().detach().numpy()\n",
    "    except:\n",
    "        num_coeffs = wph.shape[1]\n",
    "        coef = np.zeros((N*batch_size,num_coeffs), dtype=np.complexfloating)\n",
    "        coef[batch_size*i:batch_size*(i+1),:] = wph.cpu().detach().numpy()\n",
    "np.save(\"../data/wph_Gadget_for_vib_total\",coef)"
   ]
  },
  {
   "cell_type": "code",
   "execution_count": 16,
   "id": "29a48154-4487-47f6-8308-a99110927aff",
   "metadata": {},
   "outputs": [
    {
     "name": "stderr",
     "output_type": "stream",
     "text": [
      "/tmp/ipykernel_3995025/3421244878.py:25: DeprecationWarning: Converting `np.complex` to a dtype is deprecated. The current result is `complex128` which is not strictly correct.\n",
      "  coef = np.zeros((N*batch_size,num_coeffs), dtype=np.complexfloating)\n"
     ]
    }
   ],
   "source": [
    "J = 7; L = 4; dn = 0\n",
    "maps = rmap\n",
    "nmaps = maps.reshape(maps.shape[0],-1)\n",
    "nmaps = (nmaps.T - nmaps.mean(axis=1))/nmaps.std(axis=1)\n",
    "#nmaps = (nmaps.T - nmaps.min(axis=1))/(nmaps.max(axis=1)-nmaps.min(axis=1)\n",
    "nmaps = nmaps.T.reshape(15000,256,256)\n",
    "\n",
    "M, N = 256, 256\n",
    "J = 7\n",
    "L = 4\n",
    "dn = 0\n",
    "try: \n",
    "    del coef\n",
    "except:\n",
    "    pass\n",
    "wph_op = pw.WPHOp(M, N, J, L=L, dn=dn, device=0)\n",
    "batch_size = 100\n",
    "N = int(15000/batch_size)\n",
    "for i in range(N):\n",
    "    wph = wph_op(nmaps[batch_size*i:batch_size*(i+1),:,:])\n",
    "    try:\n",
    "        coef[batch_size*i:batch_size*(i+1),:] = wph.cpu().detach().numpy()\n",
    "    except:\n",
    "        num_coeffs = wph.shape[1]\n",
    "        coef = np.zeros((N*batch_size,num_coeffs), dtype=np.complexfloating)\n",
    "        coef[batch_size*i:batch_size*(i+1),:] = wph.cpu().detach().numpy()\n",
    "np.save(\"../data/wph_nRamses_for_vib_total\",coef)"
   ]
  },
  {
   "cell_type": "code",
   "execution_count": null,
   "id": "25fd1485-2608-4947-9ab5-4fc5046699fd",
   "metadata": {},
   "outputs": [],
   "source": [
    "J = 7; L = 4; dn = 0\n",
    "\n",
    "M, N = 256, 256\n",
    "J = 7\n",
    "L = 4\n",
    "dn = 0\n",
    "try: \n",
    "    del coef\n",
    "except:\n",
    "    pass\n",
    "wph_op = pw.WPHOp(M, N, J, L=L, dn=dn, device=0)\n",
    "batch_size = 100\n",
    "N = int(15000/batch_size)\n",
    "for i in range(N):\n",
    "    wph = wph_op(rmap[batch_size*i:batch_size*(i+1),:,:])\n",
    "    try:\n",
    "        coef[batch_size*i:batch_size*(i+1),:] = wph.cpu().detach().numpy()\n",
    "    except:\n",
    "        num_coeffs = wph.shape[1]\n",
    "        coef = np.zeros((N*batch_size,num_coeffs), dtype=np.complexfloating)\n",
    "        coef[batch_size*i:batch_size*(i+1),:] = wph.cpu().detach().numpy()\n",
    "np.save(\"../data/wph_Ramses_for_vib_total\",coef)"
   ]
  },
  {
   "cell_type": "markdown",
   "id": "f1bdb88f-64ee-4b2b-9eed-5f34f1df2e59",
   "metadata": {},
   "source": [
    "## TNG & SIMBA"
   ]
  },
  {
   "cell_type": "code",
   "execution_count": 17,
   "id": "d6b03847-c8b3-4df0-9a8e-ebff31032b1a",
   "metadata": {},
   "outputs": [],
   "source": [
    "fmaps = \\\n",
    "        \"/mnt/home/fvillaescusa/CAMELS/PUBLIC_RELEASE/CMD/2D_maps/data/Maps_Mtot_IllustrisTNG_LH_z=0.00.npy\"\n",
    "# read the data\n",
    "tng_maps = np.log10(np.load(fmaps))\n",
    "fmaps = \\\n",
    "        \"/mnt/home/fvillaescusa/CAMELS/PUBLIC_RELEASE/CMD/2D_maps/data/Maps_Mtot_SIMBA_LH_z=0.00.npy\"\n",
    "# read the data\n",
    "simba_maps = np.log10(np.load(fmaps))"
   ]
  },
  {
   "cell_type": "code",
   "execution_count": 18,
   "id": "71f398c4-310f-4137-8caa-88ca860358db",
   "metadata": {},
   "outputs": [
    {
     "name": "stderr",
     "output_type": "stream",
     "text": [
      "/tmp/ipykernel_3995025/2137144267.py:25: DeprecationWarning: Converting `np.complex` to a dtype is deprecated. The current result is `complex128` which is not strictly correct.\n",
      "  coef = np.zeros((N*batch_size,num_coeffs), dtype=np.complexfloating)\n"
     ]
    }
   ],
   "source": [
    "J = 7; L = 4; dn = 0\n",
    "maps = tng_maps\n",
    "nmaps = maps.reshape(maps.shape[0],-1)\n",
    "nmaps = (nmaps.T - nmaps.mean(axis=1))/nmaps.std(axis=1)\n",
    "#nmaps = (nmaps.T - nmaps.min(axis=1))/(nmaps.max(axis=1)-nmaps.min(axis=1)\n",
    "nmaps = nmaps.T.reshape(15000,256,256)\n",
    "\n",
    "M, N = 256, 256\n",
    "J = 7\n",
    "L = 4\n",
    "dn = 0\n",
    "try: \n",
    "    del coef\n",
    "except:\n",
    "    pass\n",
    "wph_op = pw.WPHOp(M, N, J, L=L, dn=dn, device=0)\n",
    "batch_size = 100\n",
    "N = int(15000/batch_size)\n",
    "for i in range(N):\n",
    "    wph = wph_op(nmaps[batch_size*i:batch_size*(i+1),:,:])\n",
    "    try:\n",
    "        coef[batch_size*i:batch_size*(i+1),:] = wph.cpu().detach().numpy()\n",
    "    except:\n",
    "        num_coeffs = wph.shape[1]\n",
    "        coef = np.zeros((N*batch_size,num_coeffs), dtype=np.complexfloating)\n",
    "        coef[batch_size*i:batch_size*(i+1),:] = wph.cpu().detach().numpy()\n",
    "np.save(\"../data/wph_nIllustrisTNG_for_vib_total\",coef)"
   ]
  },
  {
   "cell_type": "code",
   "execution_count": 19,
   "id": "e6f868b3-9ed0-4ea1-b2b0-3555d72bb4b6",
   "metadata": {},
   "outputs": [
    {
     "name": "stderr",
     "output_type": "stream",
     "text": [
      "/tmp/ipykernel_3995025/1593722814.py:20: DeprecationWarning: Converting `np.complex` to a dtype is deprecated. The current result is `complex128` which is not strictly correct.\n",
      "  coef = np.zeros((N*batch_size,num_coeffs), dtype=np.complexfloating)\n"
     ]
    }
   ],
   "source": [
    "J = 7; L = 4; dn = 0\n",
    "\n",
    "M, N = 256, 256\n",
    "J = 7\n",
    "L = 4\n",
    "dn = 0\n",
    "try: \n",
    "    del coef\n",
    "except:\n",
    "    pass\n",
    "wph_op = pw.WPHOp(M, N, J, L=L, dn=dn, device=0)\n",
    "batch_size = 100\n",
    "N = int(15000/batch_size)\n",
    "for i in range(N):\n",
    "    wph = wph_op(tng_maps[batch_size*i:batch_size*(i+1),:,:])\n",
    "    try:\n",
    "        coef[batch_size*i:batch_size*(i+1),:] = wph.cpu().detach().numpy()\n",
    "    except:\n",
    "        num_coeffs = wph.shape[1]\n",
    "        coef = np.zeros((N*batch_size,num_coeffs), dtype=np.complexfloating)\n",
    "        coef[batch_size*i:batch_size*(i+1),:] = wph.cpu().detach().numpy()\n",
    "np.save(\"../data/wph_IllustrisTNG_for_vib_total\",coef)"
   ]
  },
  {
   "cell_type": "code",
   "execution_count": 20,
   "id": "adf834dd-ff98-469b-944c-3481b1129706",
   "metadata": {},
   "outputs": [
    {
     "name": "stderr",
     "output_type": "stream",
     "text": [
      "/tmp/ipykernel_3995025/3633296260.py:25: DeprecationWarning: Converting `np.complex` to a dtype is deprecated. The current result is `complex128` which is not strictly correct.\n",
      "  coef = np.zeros((N*batch_size,num_coeffs), dtype=np.complexfloating)\n"
     ]
    }
   ],
   "source": [
    "J = 7; L = 4; dn = 0\n",
    "maps = simba_maps\n",
    "nmaps = maps.reshape(maps.shape[0],-1)\n",
    "nmaps = (nmaps.T - nmaps.mean(axis=1))/nmaps.std(axis=1)\n",
    "#nmaps = (nmaps.T - nmaps.min(axis=1))/(nmaps.max(axis=1)-nmaps.min(axis=1)\n",
    "nmaps = nmaps.T.reshape(15000,256,256)\n",
    "\n",
    "M, N = 256, 256\n",
    "J = 7\n",
    "L = 4\n",
    "dn = 0\n",
    "try: \n",
    "    del coef\n",
    "except:\n",
    "    pass\n",
    "wph_op = pw.WPHOp(M, N, J, L=L, dn=dn, device=0)\n",
    "batch_size = 100\n",
    "N = int(15000/batch_size)\n",
    "for i in range(N):\n",
    "    wph = wph_op(nmaps[batch_size*i:batch_size*(i+1),:,:])\n",
    "    try:\n",
    "        coef[batch_size*i:batch_size*(i+1),:] = wph.cpu().detach().numpy()\n",
    "    except:\n",
    "        num_coeffs = wph.shape[1]\n",
    "        coef = np.zeros((N*batch_size,num_coeffs), dtype=np.complexfloating)\n",
    "        coef[batch_size*i:batch_size*(i+1),:] = wph.cpu().detach().numpy()\n",
    "np.save(\"../data/wph_nSIMBA_for_vib_total\",coef)"
   ]
  },
  {
   "cell_type": "code",
   "execution_count": 21,
   "id": "838e2554-31c1-4e53-b745-f4b27c1b1316",
   "metadata": {},
   "outputs": [
    {
     "name": "stderr",
     "output_type": "stream",
     "text": [
      "/tmp/ipykernel_3995025/312814180.py:20: DeprecationWarning: Converting `np.complex` to a dtype is deprecated. The current result is `complex128` which is not strictly correct.\n",
      "  coef = np.zeros((N*batch_size,num_coeffs), dtype=np.complexfloating)\n"
     ]
    }
   ],
   "source": [
    "J = 7; L = 4; dn = 0\n",
    "\n",
    "M, N = 256, 256\n",
    "J = 7\n",
    "L = 4\n",
    "dn = 0\n",
    "try: \n",
    "    del coef\n",
    "except:\n",
    "    pass\n",
    "wph_op = pw.WPHOp(M, N, J, L=L, dn=dn, device=0)\n",
    "batch_size = 100\n",
    "N = int(15000/batch_size)\n",
    "for i in range(N):\n",
    "    wph = wph_op(nmaps[batch_size*i:batch_size*(i+1),:,:])\n",
    "    try:\n",
    "        coef[batch_size*i:batch_size*(i+1),:] = wph.cpu().detach().numpy()\n",
    "    except:\n",
    "        num_coeffs = wph.shape[1]\n",
    "        coef = np.zeros((N*batch_size,num_coeffs), dtype=np.complexfloating)\n",
    "        coef[batch_size*i:batch_size*(i+1),:] = wph.cpu().detach().numpy()\n",
    "np.save(\"../data/wph_SIMBA_for_vib_total\",coef)"
   ]
  },
  {
   "cell_type": "markdown",
   "id": "a7c41463-833f-4e44-8368-42b565a2deb1",
   "metadata": {},
   "source": [
    "### Mgas Mstar HI ne Vcdm Z"
   ]
  },
  {
   "cell_type": "code",
   "execution_count": 3,
   "id": "71244436-88ee-48be-b0a7-944f40de09a0",
   "metadata": {},
   "outputs": [
    {
     "name": "stderr",
     "output_type": "stream",
     "text": [
      "/tmp/ipykernel_835764/3871514427.py:35: DeprecationWarning: Converting `np.complex` to a dtype is deprecated. The current result is `complex128` which is not strictly correct.\n",
      "  coef = np.zeros((N*batch_size,num_coeffs), dtype=np.complexfloating)\n",
      "/tmp/ipykernel_835764/3871514427.py:63: DeprecationWarning: Converting `np.complex` to a dtype is deprecated. The current result is `complex128` which is not strictly correct.\n",
      "  coef = np.zeros((N*batch_size,num_coeffs), dtype=np.complexfloating)\n",
      "/tmp/ipykernel_835764/3871514427.py:5: RuntimeWarning: divide by zero encountered in log10\n",
      "  tng_maps = np.log10(np.load(fmaps))\n",
      "/tmp/ipykernel_835764/3871514427.py:9: RuntimeWarning: divide by zero encountered in log10\n",
      "  simba_maps = np.log10(np.load(fmaps))\n",
      "/tmp/ipykernel_835764/3871514427.py:14: RuntimeWarning: invalid value encountered in subtract\n",
      "  nmaps = (nmaps.T - nmaps.mean(axis=1))/nmaps.std(axis=1)\n",
      "/mnt/sw/nix/store/z6v265ivx5w6xbajay41vdfc0la8gla5-python-3.9.12-view/lib/python3.9/site-packages/numpy/core/_methods.py:230: RuntimeWarning: invalid value encountered in subtract\n",
      "  x = asanyarray(arr - arrmean)\n",
      "/tmp/ipykernel_835764/3871514427.py:35: DeprecationWarning: Converting `np.complex` to a dtype is deprecated. The current result is `complex128` which is not strictly correct.\n",
      "  coef = np.zeros((N*batch_size,num_coeffs), dtype=np.complexfloating)\n",
      "/tmp/ipykernel_835764/3871514427.py:42: RuntimeWarning: invalid value encountered in subtract\n",
      "  nmaps = (nmaps.T - nmaps.mean(axis=1))/nmaps.std(axis=1)\n",
      "/mnt/sw/nix/store/z6v265ivx5w6xbajay41vdfc0la8gla5-python-3.9.12-view/lib/python3.9/site-packages/numpy/core/_methods.py:230: RuntimeWarning: invalid value encountered in subtract\n",
      "  x = asanyarray(arr - arrmean)\n",
      "/tmp/ipykernel_835764/3871514427.py:63: DeprecationWarning: Converting `np.complex` to a dtype is deprecated. The current result is `complex128` which is not strictly correct.\n",
      "  coef = np.zeros((N*batch_size,num_coeffs), dtype=np.complexfloating)\n",
      "/tmp/ipykernel_835764/3871514427.py:35: DeprecationWarning: Converting `np.complex` to a dtype is deprecated. The current result is `complex128` which is not strictly correct.\n",
      "  coef = np.zeros((N*batch_size,num_coeffs), dtype=np.complexfloating)\n",
      "/tmp/ipykernel_835764/3871514427.py:63: DeprecationWarning: Converting `np.complex` to a dtype is deprecated. The current result is `complex128` which is not strictly correct.\n",
      "  coef = np.zeros((N*batch_size,num_coeffs), dtype=np.complexfloating)\n",
      "/tmp/ipykernel_835764/3871514427.py:35: DeprecationWarning: Converting `np.complex` to a dtype is deprecated. The current result is `complex128` which is not strictly correct.\n",
      "  coef = np.zeros((N*batch_size,num_coeffs), dtype=np.complexfloating)\n",
      "/tmp/ipykernel_835764/3871514427.py:63: DeprecationWarning: Converting `np.complex` to a dtype is deprecated. The current result is `complex128` which is not strictly correct.\n",
      "  coef = np.zeros((N*batch_size,num_coeffs), dtype=np.complexfloating)\n",
      "/tmp/ipykernel_835764/3871514427.py:35: DeprecationWarning: Converting `np.complex` to a dtype is deprecated. The current result is `complex128` which is not strictly correct.\n",
      "  coef = np.zeros((N*batch_size,num_coeffs), dtype=np.complexfloating)\n",
      "/tmp/ipykernel_835764/3871514427.py:63: DeprecationWarning: Converting `np.complex` to a dtype is deprecated. The current result is `complex128` which is not strictly correct.\n",
      "  coef = np.zeros((N*batch_size,num_coeffs), dtype=np.complexfloating)\n",
      "/tmp/ipykernel_835764/3871514427.py:35: DeprecationWarning: Converting `np.complex` to a dtype is deprecated. The current result is `complex128` which is not strictly correct.\n",
      "  coef = np.zeros((N*batch_size,num_coeffs), dtype=np.complexfloating)\n",
      "/tmp/ipykernel_835764/3871514427.py:63: DeprecationWarning: Converting `np.complex` to a dtype is deprecated. The current result is `complex128` which is not strictly correct.\n",
      "  coef = np.zeros((N*batch_size,num_coeffs), dtype=np.complexfloating)\n"
     ]
    }
   ],
   "source": [
    "for field in ['Mgas','Mstar','HI','ne','Vcdm','Z']:\n",
    "    fmaps = \\\n",
    "            \"/mnt/home/fvillaescusa/CAMELS/PUBLIC_RELEASE/CMD/2D_maps/data/Maps_{}_IllustrisTNG_LH_z=0.00.npy\".format(field)\n",
    "    # read the data\n",
    "    tng_maps = np.log10(np.load(fmaps))\n",
    "    fmaps = \\\n",
    "            \"/mnt/home/fvillaescusa/CAMELS/PUBLIC_RELEASE/CMD/2D_maps/data/Maps_{}_SIMBA_LH_z=0.00.npy\".format(field)\n",
    "    # read the data\n",
    "    simba_maps = np.log10(np.load(fmaps))\n",
    "\n",
    "    J = 7; L = 4; dn = 0\n",
    "    maps = tng_maps\n",
    "    nmaps = maps.reshape(maps.shape[0],-1)\n",
    "    nmaps = (nmaps.T - nmaps.mean(axis=1))/nmaps.std(axis=1)\n",
    "    #nmaps = (nmaps.T - nmaps.min(axis=1))/(nmaps.max(axis=1)-nmaps.min(axis=1)\n",
    "    nmaps = nmaps.T.reshape(15000,256,256)\n",
    "\n",
    "    M, N = 256, 256\n",
    "    J = 7\n",
    "    L = 4\n",
    "    dn = 0\n",
    "    try: \n",
    "        del coef\n",
    "    except:\n",
    "        pass\n",
    "    wph_op = pw.WPHOp(M, N, J, L=L, dn=dn, device=0)\n",
    "    batch_size = 100\n",
    "    N = int(15000/batch_size)\n",
    "    for i in range(N):\n",
    "        wph = wph_op(nmaps[batch_size*i:batch_size*(i+1),:,:])\n",
    "        try:\n",
    "            coef[batch_size*i:batch_size*(i+1),:] = wph.cpu().detach().numpy()\n",
    "        except:\n",
    "            num_coeffs = wph.shape[1]\n",
    "            coef = np.zeros((N*batch_size,num_coeffs), dtype=np.complexfloating)\n",
    "            coef[batch_size*i:batch_size*(i+1),:] = wph.cpu().detach().numpy()\n",
    "    np.save(\"../data/wph_nIllustrisTNG_{}_for_vib_total\".format(field),coef)\n",
    "\n",
    "    J = 7; L = 4; dn = 0\n",
    "    maps = simba_maps\n",
    "    nmaps = maps.reshape(maps.shape[0],-1)\n",
    "    nmaps = (nmaps.T - nmaps.mean(axis=1))/nmaps.std(axis=1)\n",
    "    #nmaps = (nmaps.T - nmaps.min(axis=1))/(nmaps.max(axis=1)-nmaps.min(axis=1)\n",
    "    nmaps = nmaps.T.reshape(15000,256,256)\n",
    "\n",
    "    M, N = 256, 256\n",
    "    J = 7\n",
    "    L = 4\n",
    "    dn = 0\n",
    "    try: \n",
    "        del coef\n",
    "    except:\n",
    "        pass\n",
    "    wph_op = pw.WPHOp(M, N, J, L=L, dn=dn, device=0)\n",
    "    batch_size = 100\n",
    "    N = int(15000/batch_size)\n",
    "    for i in range(N):\n",
    "        wph = wph_op(nmaps[batch_size*i:batch_size*(i+1),:,:])\n",
    "        try:\n",
    "            coef[batch_size*i:batch_size*(i+1),:] = wph.cpu().detach().numpy()\n",
    "        except:\n",
    "            num_coeffs = wph.shape[1]\n",
    "            coef = np.zeros((N*batch_size,num_coeffs), dtype=np.complexfloating)\n",
    "            coef[batch_size*i:batch_size*(i+1),:] = wph.cpu().detach().numpy()\n",
    "    np.save(\"../data/wph_nSIMBA_{}_for_vib_total\".format(field),coef)"
   ]
  },
  {
   "cell_type": "code",
   "execution_count": 5,
   "id": "714e18ac-e6d8-41a3-9745-e154d21ab3af",
   "metadata": {},
   "outputs": [
    {
     "ename": "FileNotFoundError",
     "evalue": "[Errno 2] No such file or directory: '/mnt/home/fvillaescusa/CAMELS/Results/images_Astrid/Images_Mtot_Astrid_LH_364_z=0.00.npy'",
     "output_type": "error",
     "traceback": [
      "\u001b[0;31m---------------------------------------------------------------------------\u001b[0m",
      "\u001b[0;31mFileNotFoundError\u001b[0m                         Traceback (most recent call last)",
      "Input \u001b[0;32mIn [5]\u001b[0m, in \u001b[0;36m<module>\u001b[0;34m\u001b[0m\n\u001b[1;32m      3\u001b[0m     fmaps \u001b[38;5;241m=\u001b[39m \\\n\u001b[1;32m      4\u001b[0m             \u001b[38;5;124m\"\u001b[39m\u001b[38;5;124m/mnt/home/fvillaescusa/CAMELS/Results/images_Astrid/Images_Mtot_Astrid_LH_\u001b[39m\u001b[38;5;132;01m{}\u001b[39;00m\u001b[38;5;124m_z=0.00.npy\u001b[39m\u001b[38;5;124m\"\u001b[39m\u001b[38;5;241m.\u001b[39mformat(i)\n\u001b[1;32m      5\u001b[0m     \u001b[38;5;66;03m# read the data\u001b[39;00m\n\u001b[0;32m----> 6\u001b[0m     ast_maps[i\u001b[38;5;241m*\u001b[39m\u001b[38;5;241m15\u001b[39m:(i\u001b[38;5;241m+\u001b[39m\u001b[38;5;241m1\u001b[39m)\u001b[38;5;241m*\u001b[39m\u001b[38;5;241m15\u001b[39m,:] \u001b[38;5;241m=\u001b[39m np\u001b[38;5;241m.\u001b[39mlog10(\u001b[43mnp\u001b[49m\u001b[38;5;241;43m.\u001b[39;49m\u001b[43mload\u001b[49m\u001b[43m(\u001b[49m\u001b[43mfmaps\u001b[49m\u001b[43m)\u001b[49m)\n\u001b[1;32m      8\u001b[0m J \u001b[38;5;241m=\u001b[39m \u001b[38;5;241m7\u001b[39m; L \u001b[38;5;241m=\u001b[39m \u001b[38;5;241m4\u001b[39m; dn \u001b[38;5;241m=\u001b[39m \u001b[38;5;241m0\u001b[39m\n\u001b[1;32m      9\u001b[0m maps \u001b[38;5;241m=\u001b[39m ast_maps\n",
      "File \u001b[0;32m/mnt/sw/nix/store/z6v265ivx5w6xbajay41vdfc0la8gla5-python-3.9.12-view/lib/python3.9/site-packages/numpy/lib/npyio.py:417\u001b[0m, in \u001b[0;36mload\u001b[0;34m(file, mmap_mode, allow_pickle, fix_imports, encoding)\u001b[0m\n\u001b[1;32m    415\u001b[0m     own_fid \u001b[38;5;241m=\u001b[39m \u001b[38;5;28;01mFalse\u001b[39;00m\n\u001b[1;32m    416\u001b[0m \u001b[38;5;28;01melse\u001b[39;00m:\n\u001b[0;32m--> 417\u001b[0m     fid \u001b[38;5;241m=\u001b[39m stack\u001b[38;5;241m.\u001b[39menter_context(\u001b[38;5;28;43mopen\u001b[39;49m\u001b[43m(\u001b[49m\u001b[43mos_fspath\u001b[49m\u001b[43m(\u001b[49m\u001b[43mfile\u001b[49m\u001b[43m)\u001b[49m\u001b[43m,\u001b[49m\u001b[43m \u001b[49m\u001b[38;5;124;43m\"\u001b[39;49m\u001b[38;5;124;43mrb\u001b[39;49m\u001b[38;5;124;43m\"\u001b[39;49m\u001b[43m)\u001b[49m)\n\u001b[1;32m    418\u001b[0m     own_fid \u001b[38;5;241m=\u001b[39m \u001b[38;5;28;01mTrue\u001b[39;00m\n\u001b[1;32m    420\u001b[0m \u001b[38;5;66;03m# Code to distinguish from NumPy binary files and pickles.\u001b[39;00m\n",
      "\u001b[0;31mFileNotFoundError\u001b[0m: [Errno 2] No such file or directory: '/mnt/home/fvillaescusa/CAMELS/Results/images_Astrid/Images_Mtot_Astrid_LH_364_z=0.00.npy'"
     ]
    }
   ],
   "source": [
    "ast_maps = np.zeros((15000,256,256))\n",
    "j = 0\n",
    "for i in range(1000):\n",
    "    try:\n",
    "        fmaps = \\\n",
    "                \"/mnt/home/fvillaescusa/CAMELS/Results/images_Astrid/Images_Mtot_Astrid_LH_{}_z=0.00.npy\".format(i)\n",
    "        # read the data\n",
    "        ast_maps[i*15:(i+1)*15,:] = np.log10(np.load(fmaps))\n",
    "        j += 1\n",
    "    except FileNotFoundError:\n",
    "        pass\n",
    "\n",
    "N_total = 15*j\n",
    "J = 7; L = 4; dn = 0\n",
    "maps = ast_maps\n",
    "nmaps = maps.reshape(maps.shape[0],-1)\n",
    "nmaps = (nmaps.T - nmaps.mean(axis=1))/nmaps.std(axis=1)\n",
    "#nmaps = (nmaps.T - nmaps.min(axis=1))/(nmaps.max(axis=1)-nmaps.min(axis=1)\n",
    "nmaps = nmaps.T.reshape(15000,256,256)\n",
    "\n",
    "M, N = 256, 256\n",
    "J = 7\n",
    "L = 4\n",
    "dn = 0\n",
    "try: \n",
    "    del coef\n",
    "except:\n",
    "    pass\n",
    "wph_op = pw.WPHOp(M, N, J, L=L, dn=dn, device=0)\n",
    "batch_size = 100\n",
    "N = int(N_total/batch_size)\n",
    "for i in range(N):\n",
    "    wph = wph_op(nmaps[batch_size*i:batch_size*(i+1),:,:])\n",
    "    try:\n",
    "        coef[batch_size*i:batch_size*(i+1),:] = wph.cpu().detach().numpy()\n",
    "    except:\n",
    "        num_coeffs = wph.shape[1]\n",
    "        coef = np.zeros((N*batch_size,num_coeffs), dtype=np.complexfloating)\n",
    "        coef[batch_size*i:batch_size*(i+1),:] = wph.cpu().detach().numpy()\n",
    "np.save(\"../data/wph_nAstrid_for_vib_total\".format(field),coef)"
   ]
  },
  {
   "cell_type": "code",
   "execution_count": null,
   "id": "7d950a11-7192-4917-b0dd-cb12106d7d24",
   "metadata": {},
   "outputs": [],
   "source": [
    "for field in ['Mgas','Mstar','HI','ne','Vcdm','Z']:\n",
    "    ast_maps = np.zeros((15000,256,256))\n",
    "    for i in range(1000):\n",
    "        fmaps = \\\n",
    "                \"/mnt/home/fvillaescusa/CAMELS/Results/images_Astrid/Images_{}_Astrid_LH_{}_z=0.00.npy\".format(field, i)\n",
    "        # read the data\n",
    "        ast_maps[i*15:(i+1)*15,:] = np.log10(np.load(fmaps))\n",
    "\n",
    "    J = 7; L = 4; dn = 0\n",
    "    maps = ast_maps\n",
    "    nmaps = maps.reshape(maps.shape[0],-1)\n",
    "    nmaps = (nmaps.T - nmaps.mean(axis=1))/nmaps.std(axis=1)\n",
    "    #nmaps = (nmaps.T - nmaps.min(axis=1))/(nmaps.max(axis=1)-nmaps.min(axis=1)\n",
    "    nmaps = nmaps.T.reshape(15000,256,256)\n",
    "\n",
    "    M, N = 256, 256\n",
    "    J = 7\n",
    "    L = 4\n",
    "    dn = 0\n",
    "    try: \n",
    "        del coef\n",
    "    except:\n",
    "        pass\n",
    "    wph_op = pw.WPHOp(M, N, J, L=L, dn=dn, device=0)\n",
    "    batch_size = 100\n",
    "    N = int(15000/batch_size)\n",
    "    for i in range(N):\n",
    "        wph = wph_op(nmaps[batch_size*i:batch_size*(i+1),:,:])\n",
    "        try:\n",
    "            coef[batch_size*i:batch_size*(i+1),:] = wph.cpu().detach().numpy()\n",
    "        except:\n",
    "            num_coeffs = wph.shape[1]\n",
    "            coef = np.zeros((N*batch_size,num_coeffs), dtype=np.complexfloating)\n",
    "            coef[batch_size*i:batch_size*(i+1),:] = wph.cpu().detach().numpy()\n",
    "    np.save(\"../data/wph_nAstrid_{}_for_vib_total\".format(field),coef)"
   ]
  }
 ],
 "metadata": {
  "kernelspec": {
   "display_name": "venv",
   "language": "python",
   "name": "venv"
  },
  "language_info": {
   "codemirror_mode": {
    "name": "ipython",
    "version": 3
   },
   "file_extension": ".py",
   "mimetype": "text/x-python",
   "name": "python",
   "nbconvert_exporter": "python",
   "pygments_lexer": "ipython3",
   "version": "3.9.12"
  }
 },
 "nbformat": 4,
 "nbformat_minor": 5
}
