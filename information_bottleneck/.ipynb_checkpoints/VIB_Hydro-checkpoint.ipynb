{
 "cells": [
  {
   "cell_type": "markdown",
   "metadata": {
    "tags": []
   },
   "source": [
    "## Imports"
   ]
  },
  {
   "cell_type": "code",
   "execution_count": 1,
   "metadata": {
    "tags": []
   },
   "outputs": [],
   "source": [
    "from __future__ import absolute_import\n",
    "from __future__ import division\n",
    "from __future__ import print_function\n",
    "\n",
    "import numpy as np\n",
    "import matplotlib.pyplot as plt\n",
    "import time\n",
    "from collections import defaultdict\n",
    "\n",
    "import torch\n",
    "import torch.nn as nn\n",
    "from torch.nn import functional as F\n",
    "import torch.utils.data as data_utils\n",
    "\n",
    "from kymatio.torch import HarmonicScattering3D\n",
    "from kymatio.scattering3d.backend.torch_backend \\\n",
    "    import TorchBackend3D\n",
    "from kymatio.scattering3d.utils \\\n",
    "    import generate_weighted_sum_of_gaussians\n",
    "from kymatio.datasets import fetch_qm7\n",
    "from kymatio.caching import get_cache_dir\n",
    "from torch.utils.data.sampler import SubsetRandomSampler\n",
    "\n",
    "# Device Config\n",
    "device = torch.device(\"cuda\" if torch.cuda.is_available() else \"cpu\")\n",
    "#device = 'cpu' # temporarily\n",
    "# Fix random seeds for reproducibility\n",
    "seed = 73\n",
    "torch.manual_seed(seed)\n",
    "np.random.seed(seed)"
   ]
  },
  {
   "cell_type": "markdown",
   "metadata": {
    "tags": []
   },
   "source": [
    "## VIB"
   ]
  },
  {
   "cell_type": "markdown",
   "metadata": {
    "jp-MarkdownHeadingCollapsed": true,
    "tags": []
   },
   "source": [
    "### Methods"
   ]
  },
  {
   "cell_type": "code",
   "execution_count": 8,
   "metadata": {},
   "outputs": [],
   "source": [
    "class VIB(nn.Module):\n",
    "    \"\"\"An implementation of the Variational Information Bottleneck Method.\"\"\"\n",
    "\n",
    "    def __init__(self, input_shape, output_shape, z_dim):\n",
    "        # We'll use the same encoder as before but predict additional parameters\n",
    "        #  for our distribution.\n",
    "        super(VIB,self).__init__()\n",
    "        \n",
    "        \n",
    "        self.input_shape    = input_shape\n",
    "        self.output_shape   = output_shape\n",
    "        self.z_shape        = z_dim #self.coef_dim*(self.coef_dim+3)/2\n",
    "        \n",
    "        self.nn_encoder = nn.Sequential(\n",
    "                            nn.Linear(self.input_shape,512),\n",
    "                            nn.GELU(),\n",
    "                            nn.LayerNorm(512),               \n",
    "                            nn.Linear(512,128),\n",
    "                            nn.LayerNorm(128),\n",
    "                            #nn.Linear(256,256),\n",
    "                            nn.ReLU(),\n",
    "                            #nn.LayerNorm(256),\n",
    "                            #nn.Linear(1024,128),\n",
    "                            #nn.GELU(),\n",
    "                            #nn.LayerNorm(128),\n",
    "                            )\n",
    "\n",
    "        #self.nn_token  = nn.Linear(128, self.coef_dim) \n",
    "        #self.nn_prob = nn.Linear(512, self.z_dim)\n",
    "\n",
    "        self.nn_weights  = nn.Linear(128, self.z_shape) \n",
    "        self.nn_std   = nn.Linear(128, self.z_shape)\n",
    "\n",
    "        self.nn_decoder = nn.Sequential(nn.Linear(self.z_shape, 32),\n",
    "                                        nn.GELU(),\n",
    "                                        nn.LayerNorm(32),\n",
    "                                        #nn.Linear(64, 16),\n",
    "                                        #nn.GELU(),\n",
    "                                        #nn.LayerNorm(16),\n",
    "                                        nn.Linear(32, self.output_shape))\n",
    "        \n",
    "    def encoder(self, x):\n",
    "        \"\"\"\n",
    "        x : (input_shape)\n",
    "        \"\"\"\n",
    "        x = self.nn_encoder(x)\n",
    "        #return self.nn_token(x), F.softplus(self.nn_prob(x)-5, beta=1)\n",
    "        return self.nn_weights(x), F.softplus(self.nn_weights(x)-5, beta=1)\n",
    "\n",
    "    def decoder(self, z):\n",
    "        \"\"\"\n",
    "        z : (candidate_size)\n",
    "        \"\"\" \n",
    "        return self.nn_decoder(z)\n",
    "\n",
    "    \n",
    "    \n",
    "    def reparameterise(self, mean, std):\n",
    "        \"\"\"\n",
    "        mean : (coef_dim)\n",
    "        std  : (coef_dim)       \n",
    "        \"\"\"        \n",
    "        # get epsilon from standard normal\n",
    "        eps = torch.randn_like(std)\n",
    "        return mean + std*eps\n",
    "\n",
    "    \n",
    "    def forward(self, x):\n",
    "        \"\"\"\n",
    "        Forward pass \n",
    "        \n",
    "        Parameters:\n",
    "        -----------\n",
    "        x : (input_shape)\n",
    "        \"\"\"\n",
    "        mu, std = self.encoder(x)\n",
    "        z = self.reparameterise(mu, std)\n",
    "        return self.decoder(z), mu, std\n",
    "    \n",
    "def vib_loss(y_pred, y, mu, std, beta=0.01):\n",
    "    \"\"\"    \n",
    "    y_pred : (output_shape)\n",
    "    y      : (output_shape)    \n",
    "    mu     : (z_dim)  \n",
    "    std    : (z_dim)\n",
    "    \"\"\"   \n",
    "    #CE = F.cross_entropy(y_pred, y, reduction='sum')\n",
    "    CE = torch.sum((y-y_pred)**2)\n",
    "    KL = 0.5 * torch.sum(mu.pow(2) + std.pow(2) - 2*std.log() - 1)\n",
    "    return (beta*KL + CE) / y.size(0)"
   ]
  },
  {
   "cell_type": "code",
   "execution_count": 12,
   "metadata": {},
   "outputs": [],
   "source": [
    "def train_vib(vib, train_loader, device,epochs=100,batch_size=50,test_dataset=None):\n",
    "    \n",
    "    # Optimiser\n",
    "    optimiser = torch.optim.Adam(vib.parameters(), lr=learning_rate)\n",
    "    #optimiser = torch.optim.SGD(vib.parameters(), lr=learning_rate)\n",
    "    scheduler = torch.optim.lr_scheduler.ExponentialLR(optimizer=optimiser, gamma=decay_rate)\n",
    "\n",
    "    \n",
    "    # Send to GPU if available\n",
    "    vib.to(device)\n",
    "    \n",
    "    # Training\n",
    "    measures = defaultdict(list)\n",
    "    start_time = time.time()\n",
    "\n",
    "    # put Deep VIB into train mode \n",
    "    vib.train()  \n",
    "\n",
    "    for epoch in range(epochs):\n",
    "        epoch_start_time = time.time()  \n",
    "\n",
    "        # exponential decay of learning rate every 2 epochs\n",
    "        if epoch % 10 == 0 and epoch > 0:\n",
    "            scheduler.step()    \n",
    "            pass\n",
    "\n",
    "        batch_loss = 0\n",
    "        batch_accuracy = 0\n",
    "        for _, (X,y) in enumerate(train_loader): \n",
    "            X = X.to(device)        \n",
    "            y = y.float().to(device)\n",
    "\n",
    "            vib.zero_grad()\n",
    "            y_pred, mu, std = vib(X)\n",
    "            loss = vib_loss(y_pred, y, mu, std)\n",
    "            loss.backward()\n",
    "            optimiser.step()  \n",
    "\n",
    "            batch_loss += loss.item()*X.size(0) \n",
    "            batch_accuracy += torch.sum(torch.abs(y - y_pred)/y)/batch_size     \n",
    "            \n",
    "        if test_dataset is not None:\n",
    "            X, y = test_dataset.tensors\n",
    "            y_pred, _,_ = vib(torch.tensor(X,dtype=torch.float).to(device))\n",
    "            y_pred = y_pred.cpu().detach().numpy()\n",
    "            test_accuray = np.abs(y-y_pred)/y\n",
    "            #print(test_accuray.max())\n",
    "            test_accuray = test_accuray.mean(axis=0)\n",
    "            #test_accuray = test_accuray.mean()\n",
    "            #print(test_accuray)\n",
    "        else:\n",
    "            test_accuray = -1.0\n",
    "        # Save losses per epoch\n",
    "        measures['total_loss'].append(batch_loss / len(train_loader.dataset))        \n",
    "        # Save accuracy per epoch\n",
    "        measures['accuracy'].append(batch_accuracy.cpu().detach() / len(train_loader.dataset))            \n",
    "        if (epoch + 1) % 100 == 0 and epoch > 0:\n",
    "            print(\"Epoch: {}/{}...\".format(epoch+1, epochs),\n",
    "                  \"Loss: {:.4f}...\".format(measures['total_loss'][-1]),\n",
    "                  \"Accuracy: {:.4f}...\".format(measures['accuracy'][-1]),\n",
    "                  \"Test Om: {:.3f} sig: {:.3f}\".format(test_accuray[0],test_accuray[1]))\n",
    "                  #\"Time Taken: {:,.4f} seconds\".format(time.time()-epoch_start_time))\n",
    "            \n",
    "    #torch.save(vib.state_dict(),\"./models/model_LH_DMO_J_{}_L_{}_sigma_{}_power_{}.npy\".format(J,L,sigma,integral_powers))\n",
    "    return np.mean(measures['total_loss'][-10:]), np.mean(measures['accuracy'][-10:])"
   ]
  },
  {
   "cell_type": "markdown",
   "metadata": {
    "jp-MarkdownHeadingCollapsed": true,
    "tags": []
   },
   "source": [
    "### Data load"
   ]
  },
  {
   "cell_type": "code",
   "execution_count": 5,
   "metadata": {
    "tags": []
   },
   "outputs": [
    {
     "name": "stdout",
     "output_type": "stream",
     "text": [
      "(2000, 513) (2000, 2)\n"
     ]
    },
    {
     "name": "stderr",
     "output_type": "stream",
     "text": [
      "/tmp/ipykernel_3995636/94548671.py:12: ComplexWarning: Casting complex values to real discards the imaginary part\n",
      "  gcoef_avg[i,:] = coef[i*15:i*15+15,:].mean(axis=0)\n",
      "/tmp/ipykernel_3995636/94548671.py:16: ComplexWarning: Casting complex values to real discards the imaginary part\n",
      "  rcoef_avg[i,:] = coef[i*15:i*15+15,:].mean(axis=0)\n"
     ]
    }
   ],
   "source": [
    "fparam = \"/mnt/ceph/users/fvillaescusa/Nbody_systematics/data/maps/maps_Gadget/params_Gadget.txt\"\n",
    "gparams = np.loadtxt(fparam)\n",
    "gparams = gparams[:,:2] ## only Om and Sig8\n",
    "fparam = \"/mnt/ceph/users/fvillaescusa/Nbody_systematics/data/maps/maps_Ramses/params_Ramses.txt\"\n",
    "rparams = np.loadtxt(fparam)\n",
    "rparams = rparams[:,:2] ## only Om and Sig8\n",
    "params  = np.r_[gparams, rparams]\n",
    "\n",
    "coef = np.load(\"/mnt/home/yjo10/ceph/CAMELS/MIEST/data/wph_nGadget_for_vib_total.npy\")\n",
    "gcoef_avg = np.zeros((1000, coef.shape[1]))\n",
    "for i in range(1000):\n",
    "    gcoef_avg[i,:] = coef[i*15:i*15+15,:].mean(axis=0)\n",
    "coef = np.load(\"/mnt/home/yjo10/ceph/CAMELS/MIEST/data/wph_nRamses_for_vib_total.npy\")\n",
    "rcoef_avg = np.zeros((1000, coef.shape[1]))\n",
    "for i in range(1000):\n",
    "    rcoef_avg[i,:] = coef[i*15:i*15+15,:].mean(axis=0)\n",
    "coef = np.r_[gcoef_avg, rcoef_avg]\n",
    "print(coef.shape, params.shape)"
   ]
  },
  {
   "cell_type": "markdown",
   "metadata": {
    "jp-MarkdownHeadingCollapsed": true,
    "tags": []
   },
   "source": [
    "### Normalizations & Dataset for training"
   ]
  },
  {
   "cell_type": "code",
   "execution_count": 21,
   "metadata": {
    "tags": []
   },
   "outputs": [],
   "source": [
    "batch_size = 100\n",
    "validation_split = .2\n",
    "shuffle_dataset = True\n",
    "random_seed= 42\n",
    "\n",
    "# Creating data indices for training and validation splits:\n",
    "y = torch.tensor(params,dtype=torch.float)\n",
    "X = torch.tensor(coef,dtype=torch.float)\n",
    "dataset      = data_utils.TensorDataset(X, y)\n",
    "dataset_size = len(dataset)\n",
    "indices      = list(range(dataset_size))\n",
    "split        = int(np.floor(validation_split * dataset_size))\n",
    "if shuffle_dataset :\n",
    "    np.random.seed(random_seed)\n",
    "    np.random.shuffle(indices)\n",
    "train_indices, val_indices = indices[split:], indices[:split]\n",
    "\n",
    "# Creating PT data samplers and loaders:\n",
    "train_sampler = SubsetRandomSampler(train_indices)\n",
    "valid_sampler = SubsetRandomSampler(val_indices)\n",
    "\n",
    "train_loader  = torch.utils.data.DataLoader(dataset, batch_size=batch_size, \n",
    "                                           sampler=train_sampler)\n",
    "test_dataset      = data_utils.TensorDataset(X[val_indices], y[val_indices])"
   ]
  },
  {
   "cell_type": "markdown",
   "metadata": {
    "tags": []
   },
   "source": [
    "### Training VIB"
   ]
  },
  {
   "cell_type": "code",
   "execution_count": 24,
   "metadata": {},
   "outputs": [
    {
     "name": "stderr",
     "output_type": "stream",
     "text": [
      "/tmp/ipykernel_3995636/2107878760.py:44: UserWarning: To copy construct from a tensor, it is recommended to use sourceTensor.clone().detach() or sourceTensor.clone().detach().requires_grad_(True), rather than torch.tensor(sourceTensor).\n",
      "  y_pred, _,_ = vib(torch.tensor(X,dtype=torch.float).to(device))\n"
     ]
    },
    {
     "name": "stdout",
     "output_type": "stream",
     "text": [
      "Epoch: 100/3000... Loss: 1.6178... Accuracy: 0.0035... Test Om: 0.426 sig: 0.081\n",
      "Epoch: 200/3000... Loss: 1.6150... Accuracy: 0.0031... Test Om: 0.353 sig: 0.075\n",
      "Epoch: 300/3000... Loss: 1.6129... Accuracy: 0.0026... Test Om: 0.271 sig: 0.066\n",
      "Epoch: 400/3000... Loss: 1.6110... Accuracy: 0.0024... Test Om: 0.289 sig: 0.051\n",
      "Epoch: 500/3000... Loss: 1.6112... Accuracy: 0.0024... Test Om: 0.299 sig: 0.067\n",
      "Epoch: 600/3000... Loss: 1.6099... Accuracy: 0.0021... Test Om: 0.336 sig: 0.050\n",
      "Epoch: 700/3000... Loss: 1.6095... Accuracy: 0.0020... Test Om: 0.276 sig: 0.049\n",
      "Epoch: 800/3000... Loss: 1.6094... Accuracy: 0.0020... Test Om: 0.232 sig: 0.050\n",
      "Epoch: 900/3000... Loss: 1.6091... Accuracy: 0.0020... Test Om: 0.272 sig: 0.048\n",
      "Epoch: 1000/3000... Loss: 1.6084... Accuracy: 0.0018... Test Om: 0.233 sig: 0.047\n",
      "Epoch: 1100/3000... Loss: 1.6080... Accuracy: 0.0017... Test Om: 0.230 sig: 0.046\n",
      "Epoch: 1200/3000... Loss: 1.6077... Accuracy: 0.0016... Test Om: 0.212 sig: 0.048\n",
      "Epoch: 1300/3000... Loss: 1.6075... Accuracy: 0.0016... Test Om: 0.210 sig: 0.047\n",
      "Epoch: 1400/3000... Loss: 1.6073... Accuracy: 0.0015... Test Om: 0.203 sig: 0.046\n",
      "Epoch: 1500/3000... Loss: 1.6071... Accuracy: 0.0014... Test Om: 0.207 sig: 0.047\n",
      "Epoch: 1600/3000... Loss: 1.6069... Accuracy: 0.0014... Test Om: 0.199 sig: 0.048\n",
      "Epoch: 1700/3000... Loss: 1.6069... Accuracy: 0.0014... Test Om: 0.193 sig: 0.046\n",
      "Epoch: 1800/3000... Loss: 1.6069... Accuracy: 0.0014... Test Om: 0.204 sig: 0.047\n",
      "Epoch: 1900/3000... Loss: 1.6068... Accuracy: 0.0014... Test Om: 0.194 sig: 0.047\n",
      "Epoch: 2000/3000... Loss: 1.6068... Accuracy: 0.0014... Test Om: 0.197 sig: 0.046\n",
      "Epoch: 2100/3000... Loss: 1.6067... Accuracy: 0.0013... Test Om: 0.192 sig: 0.048\n",
      "Epoch: 2200/3000... Loss: 1.6067... Accuracy: 0.0013... Test Om: 0.199 sig: 0.046\n",
      "Epoch: 2300/3000... Loss: 1.6067... Accuracy: 0.0013... Test Om: 0.199 sig: 0.046\n",
      "Epoch: 2400/3000... Loss: 1.6066... Accuracy: 0.0013... Test Om: 0.189 sig: 0.046\n",
      "Epoch: 2500/3000... Loss: 1.6067... Accuracy: 0.0013... Test Om: 0.196 sig: 0.046\n",
      "Epoch: 2600/3000... Loss: 1.6066... Accuracy: 0.0013... Test Om: 0.197 sig: 0.046\n",
      "Epoch: 2700/3000... Loss: 1.6067... Accuracy: 0.0013... Test Om: 0.195 sig: 0.046\n",
      "Epoch: 2800/3000... Loss: 1.6066... Accuracy: 0.0013... Test Om: 0.201 sig: 0.046\n",
      "Epoch: 2900/3000... Loss: 1.6066... Accuracy: 0.0013... Test Om: 0.197 sig: 0.047\n",
      "Epoch: 3000/3000... Loss: 1.6067... Accuracy: 0.0013... Test Om: 0.196 sig: 0.046\n"
     ]
    }
   ],
   "source": [
    "# Hyperparameters\n",
    "beta   = 1e-3\n",
    "input_shape  = coef.shape[1]\n",
    "output_shape = 2\n",
    "learning_rate = 1e-3\n",
    "decay_rate = 0.97\n",
    "z_dim = 50\n",
    "epochs = 3000\n",
    "\n",
    "\n",
    "vib = VIB(input_shape, output_shape,z_dim)\n",
    "total_loss, accuracy = train_vib(vib, train_loader, device, epochs,batch_size,test_dataset)\n",
    "#del vib"
   ]
  },
  {
   "cell_type": "code",
   "execution_count": 26,
   "metadata": {},
   "outputs": [
    {
     "name": "stdout",
     "output_type": "stream",
     "text": [
      "tensor(0.1985)\n",
      "tensor(0.0461)\n"
     ]
    },
    {
     "name": "stderr",
     "output_type": "stream",
     "text": [
      "/tmp/ipykernel_3995636/1209562079.py:3: UserWarning: To copy construct from a tensor, it is recommended to use sourceTensor.clone().detach() or sourceTensor.clone().detach().requires_grad_(True), rather than torch.tensor(sourceTensor).\n",
      "  y_pred, mu, std = vib(torch.tensor(X,dtype=torch.float).to(device))\n"
     ]
    },
    {
     "data": {
      "text/plain": [
       "<matplotlib.collections.PathCollection at 0x15546d285a30>"
      ]
     },
     "execution_count": 26,
     "metadata": {},
     "output_type": "execute_result"
    },
    {
     "data": {
      "image/png": "[encoded data removed]",
      "text/plain": [
       "<Figure size 720x360 with 2 Axes>"
      ]
     },
     "metadata": {
      "needs_background": "light"
     },
     "output_type": "display_data"
    }
   ],
   "source": [
    "vib.eval()\n",
    "X, y =test_dataset.tensors\n",
    "y_pred, mu, std = vib(torch.tensor(X,dtype=torch.float).to(device))\n",
    "y_pred = y_pred.cpu().detach().numpy()\n",
    "\n",
    "rel1 = np.abs(y[:,0]-y_pred[:,0])/y[:,0]\n",
    "rel2 = np.abs(y[:,1]-y_pred[:,1])/y[:,1]\n",
    "print(rel1.mean())\n",
    "print(rel2.mean())\n",
    "fig = plt.figure(figsize=(10,5))\n",
    "fig.add_subplot(1,2,1)\n",
    "plt.scatter(y[:,0],y_pred[:,0])\n",
    "fig.add_subplot(1,2,2)\n",
    "plt.scatter(y[:,1],y_pred[:,1])"
   ]
  },
  {
   "cell_type": "markdown",
   "metadata": {},
   "source": [
    "## Without normalization"
   ]
  },
  {
   "cell_type": "markdown",
   "metadata": {
    "tags": []
   },
   "source": [
    "### Data load"
   ]
  },
  {
   "cell_type": "code",
   "execution_count": 5,
   "metadata": {
    "tags": []
   },
   "outputs": [
    {
     "name": "stdout",
     "output_type": "stream",
     "text": [
      "(2000, 513) (2000, 2)\n"
     ]
    },
    {
     "name": "stderr",
     "output_type": "stream",
     "text": [
      "/tmp/ipykernel_3995636/94548671.py:12: ComplexWarning: Casting complex values to real discards the imaginary part\n",
      "  gcoef_avg[i,:] = coef[i*15:i*15+15,:].mean(axis=0)\n",
      "/tmp/ipykernel_3995636/94548671.py:16: ComplexWarning: Casting complex values to real discards the imaginary part\n",
      "  rcoef_avg[i,:] = coef[i*15:i*15+15,:].mean(axis=0)\n"
     ]
    }
   ],
   "source": [
    "fparam = \"/mnt/ceph/users/fvillaescusa/Nbody_systematics/data/maps/maps_Gadget/params_Gadget.txt\"\n",
    "gparams = np.loadtxt(fparam)\n",
    "gparams = gparams[:,:2] ## only Om and Sig8\n",
    "fparam = \"/mnt/ceph/users/fvillaescusa/Nbody_systematics/data/maps/maps_Ramses/params_Ramses.txt\"\n",
    "rparams = np.loadtxt(fparam)\n",
    "rparams = rparams[:,:2] ## only Om and Sig8\n",
    "params  = np.r_[gparams, rparams]\n",
    "\n",
    "coef = np.load(\"/mnt/home/yjo10/ceph/CAMELS/MIEST/data/wph_nGadget_for_vib_total.npy\")\n",
    "gcoef_avg = np.zeros((1000, coef.shape[1]))\n",
    "for i in range(1000):\n",
    "    gcoef_avg[i,:] = coef[i*15:i*15+15,:].mean(axis=0)\n",
    "coef = np.load(\"/mnt/home/yjo10/ceph/CAMELS/MIEST/data/wph_nRamses_for_vib_total.npy\")\n",
    "rcoef_avg = np.zeros((1000, coef.shape[1]))\n",
    "for i in range(1000):\n",
    "    rcoef_avg[i,:] = coef[i*15:i*15+15,:].mean(axis=0)\n",
    "coef = np.r_[gcoef_avg, rcoef_avg]\n",
    "print(coef.shape, params.shape)"
   ]
  },
  {
   "cell_type": "markdown",
   "metadata": {
    "jp-MarkdownHeadingCollapsed": true,
    "tags": []
   },
   "source": [
    "### Normalizations & Dataset for training"
   ]
  },
  {
   "cell_type": "code",
   "execution_count": 21,
   "metadata": {
    "tags": []
   },
   "outputs": [],
   "source": [
    "batch_size = 100\n",
    "validation_split = .2\n",
    "shuffle_dataset = True\n",
    "random_seed= 42\n",
    "\n",
    "# Creating data indices for training and validation splits:\n",
    "y = torch.tensor(params,dtype=torch.float)\n",
    "X = torch.tensor(coef,dtype=torch.float)\n",
    "dataset      = data_utils.TensorDataset(X, y)\n",
    "dataset_size = len(dataset)\n",
    "indices      = list(range(dataset_size))\n",
    "split        = int(np.floor(validation_split * dataset_size))\n",
    "if shuffle_dataset :\n",
    "    np.random.seed(random_seed)\n",
    "    np.random.shuffle(indices)\n",
    "train_indices, val_indices = indices[split:], indices[:split]\n",
    "\n",
    "# Creating PT data samplers and loaders:\n",
    "train_sampler = SubsetRandomSampler(train_indices)\n",
    "valid_sampler = SubsetRandomSampler(val_indices)\n",
    "\n",
    "train_loader  = torch.utils.data.DataLoader(dataset, batch_size=batch_size, \n",
    "                                           sampler=train_sampler)\n",
    "test_dataset      = data_utils.TensorDataset(X[val_indices], y[val_indices])"
   ]
  },
  {
   "cell_type": "markdown",
   "metadata": {
    "tags": []
   },
   "source": [
    "### Training VIB"
   ]
  },
  {
   "cell_type": "code",
   "execution_count": 24,
   "metadata": {},
   "outputs": [
    {
     "name": "stderr",
     "output_type": "stream",
     "text": [
      "/tmp/ipykernel_3995636/2107878760.py:44: UserWarning: To copy construct from a tensor, it is recommended to use sourceTensor.clone().detach() or sourceTensor.clone().detach().requires_grad_(True), rather than torch.tensor(sourceTensor).\n",
      "  y_pred, _,_ = vib(torch.tensor(X,dtype=torch.float).to(device))\n"
     ]
    },
    {
     "name": "stdout",
     "output_type": "stream",
     "text": [
      "Epoch: 100/3000... Loss: 1.6178... Accuracy: 0.0035... Test Om: 0.426 sig: 0.081\n",
      "Epoch: 200/3000... Loss: 1.6150... Accuracy: 0.0031... Test Om: 0.353 sig: 0.075\n",
      "Epoch: 300/3000... Loss: 1.6129... Accuracy: 0.0026... Test Om: 0.271 sig: 0.066\n",
      "Epoch: 400/3000... Loss: 1.6110... Accuracy: 0.0024... Test Om: 0.289 sig: 0.051\n",
      "Epoch: 500/3000... Loss: 1.6112... Accuracy: 0.0024... Test Om: 0.299 sig: 0.067\n",
      "Epoch: 600/3000... Loss: 1.6099... Accuracy: 0.0021... Test Om: 0.336 sig: 0.050\n",
      "Epoch: 700/3000... Loss: 1.6095... Accuracy: 0.0020... Test Om: 0.276 sig: 0.049\n",
      "Epoch: 800/3000... Loss: 1.6094... Accuracy: 0.0020... Test Om: 0.232 sig: 0.050\n",
      "Epoch: 900/3000... Loss: 1.6091... Accuracy: 0.0020... Test Om: 0.272 sig: 0.048\n",
      "Epoch: 1000/3000... Loss: 1.6084... Accuracy: 0.0018... Test Om: 0.233 sig: 0.047\n",
      "Epoch: 1100/3000... Loss: 1.6080... Accuracy: 0.0017... Test Om: 0.230 sig: 0.046\n",
      "Epoch: 1200/3000... Loss: 1.6077... Accuracy: 0.0016... Test Om: 0.212 sig: 0.048\n",
      "Epoch: 1300/3000... Loss: 1.6075... Accuracy: 0.0016... Test Om: 0.210 sig: 0.047\n",
      "Epoch: 1400/3000... Loss: 1.6073... Accuracy: 0.0015... Test Om: 0.203 sig: 0.046\n",
      "Epoch: 1500/3000... Loss: 1.6071... Accuracy: 0.0014... Test Om: 0.207 sig: 0.047\n",
      "Epoch: 1600/3000... Loss: 1.6069... Accuracy: 0.0014... Test Om: 0.199 sig: 0.048\n",
      "Epoch: 1700/3000... Loss: 1.6069... Accuracy: 0.0014... Test Om: 0.193 sig: 0.046\n",
      "Epoch: 1800/3000... Loss: 1.6069... Accuracy: 0.0014... Test Om: 0.204 sig: 0.047\n",
      "Epoch: 1900/3000... Loss: 1.6068... Accuracy: 0.0014... Test Om: 0.194 sig: 0.047\n",
      "Epoch: 2000/3000... Loss: 1.6068... Accuracy: 0.0014... Test Om: 0.197 sig: 0.046\n",
      "Epoch: 2100/3000... Loss: 1.6067... Accuracy: 0.0013... Test Om: 0.192 sig: 0.048\n",
      "Epoch: 2200/3000... Loss: 1.6067... Accuracy: 0.0013... Test Om: 0.199 sig: 0.046\n",
      "Epoch: 2300/3000... Loss: 1.6067... Accuracy: 0.0013... Test Om: 0.199 sig: 0.046\n",
      "Epoch: 2400/3000... Loss: 1.6066... Accuracy: 0.0013... Test Om: 0.189 sig: 0.046\n",
      "Epoch: 2500/3000... Loss: 1.6067... Accuracy: 0.0013... Test Om: 0.196 sig: 0.046\n",
      "Epoch: 2600/3000... Loss: 1.6066... Accuracy: 0.0013... Test Om: 0.197 sig: 0.046\n",
      "Epoch: 2700/3000... Loss: 1.6067... Accuracy: 0.0013... Test Om: 0.195 sig: 0.046\n",
      "Epoch: 2800/3000... Loss: 1.6066... Accuracy: 0.0013... Test Om: 0.201 sig: 0.046\n",
      "Epoch: 2900/3000... Loss: 1.6066... Accuracy: 0.0013... Test Om: 0.197 sig: 0.047\n",
      "Epoch: 3000/3000... Loss: 1.6067... Accuracy: 0.0013... Test Om: 0.196 sig: 0.046\n"
     ]
    }
   ],
   "source": [
    "# Hyperparameters\n",
    "beta   = 1e-3\n",
    "input_shape  = coef.shape[1]\n",
    "output_shape = 2\n",
    "learning_rate = 1e-3\n",
    "decay_rate = 0.97\n",
    "z_dim = 50\n",
    "epochs = 3000\n",
    "\n",
    "\n",
    "vib = VIB(input_shape, output_shape,z_dim)\n",
    "total_loss, accuracy = train_vib(vib, train_loader, device, epochs,batch_size,test_dataset)\n",
    "#del vib"
   ]
  },
  {
   "cell_type": "code",
   "execution_count": 26,
   "metadata": {},
   "outputs": [
    {
     "name": "stdout",
     "output_type": "stream",
     "text": [
      "tensor(0.1985)\n",
      "tensor(0.0461)\n"
     ]
    },
    {
     "name": "stderr",
     "output_type": "stream",
     "text": [
      "/tmp/ipykernel_3995636/1209562079.py:3: UserWarning: To copy construct from a tensor, it is recommended to use sourceTensor.clone().detach() or sourceTensor.clone().detach().requires_grad_(True), rather than torch.tensor(sourceTensor).\n",
      "  y_pred, mu, std = vib(torch.tensor(X,dtype=torch.float).to(device))\n"
     ]
    },
    {
     "data": {
      "text/plain": [
       "<matplotlib.collections.PathCollection at 0x15546d285a30>"
      ]
     },
     "execution_count": 26,
     "metadata": {},
     "output_type": "execute_result"
    },
    {
     "data": {
      "image/png": "[encoded data removed]",
      "text/plain": [
       "<Figure size 720x360 with 2 Axes>"
      ]
     },
     "metadata": {
      "needs_background": "light"
     },
     "output_type": "display_data"
    }
   ],
   "source": [
    "vib.eval()\n",
    "X, y =test_dataset.tensors\n",
    "y_pred, mu, std = vib(torch.tensor(X,dtype=torch.float).to(device))\n",
    "y_pred = y_pred.cpu().detach().numpy()\n",
    "\n",
    "rel1 = np.abs(y[:,0]-y_pred[:,0])/y[:,0]\n",
    "rel2 = np.abs(y[:,1]-y_pred[:,1])/y[:,1]\n",
    "print(rel1.mean())\n",
    "print(rel2.mean())\n",
    "fig = plt.figure(figsize=(10,5))\n",
    "fig.add_subplot(1,2,1)\n",
    "plt.scatter(y[:,0],y_pred[:,0])\n",
    "fig.add_subplot(1,2,2)\n",
    "plt.scatter(y[:,1],y_pred[:,1])"
   ]
  },
  {
   "cell_type": "code",
   "execution_count": 18,
   "metadata": {},
   "outputs": [
    {
     "name": "stdout",
     "output_type": "stream",
     "text": [
      "0.23162059822659814\n",
      "0.1143907569643269\n"
     ]
    },
    {
     "data": {
      "text/plain": [
       "<matplotlib.collections.PathCollection at 0x15546d8fe430>"
      ]
     },
     "execution_count": 18,
     "metadata": {},
     "output_type": "execute_result"
    },
    {
     "data": {
      "image/png": "[encoded data removed]",
      "text/plain": [
       "<Figure size 720x360 with 2 Axes>"
      ]
     },
     "metadata": {
      "needs_background": "light"
     },
     "output_type": "display_data"
    }
   ],
   "source": [
    "vib.eval()\n",
    "X=coef\n",
    "y = params\n",
    "y_pred, mu, std = vib(torch.tensor(X,dtype=torch.float).to(device))\n",
    "y_pred = y_pred.cpu().detach().numpy()\n",
    "\n",
    "rel1 = np.abs(y[:,0]-y_pred[:,0])/y[:,0]\n",
    "rel2 = np.abs(y[:,1]-y_pred[:,1])/y[:,1]\n",
    "print(rel1.mean())\n",
    "print(rel2.mean())\n",
    "fig = plt.figure(figsize=(10,5))\n",
    "fig.add_subplot(1,2,1)\n",
    "plt.scatter(y[:,0],y_pred[:,0])\n",
    "fig.add_subplot(1,2,2)\n",
    "plt.scatter(y[:,1],y_pred[:,1])"
   ]
  },
  {
   "cell_type": "code",
   "execution_count": null,
   "metadata": {},
   "outputs": [],
   "source": []
  },
  {
   "cell_type": "code",
   "execution_count": null,
   "metadata": {},
   "outputs": [],
   "source": []
  },
  {
   "cell_type": "code",
   "execution_count": null,
   "metadata": {},
   "outputs": [],
   "source": []
  },
  {
   "cell_type": "code",
   "execution_count": null,
   "metadata": {},
   "outputs": [],
   "source": []
  },
  {
   "cell_type": "code",
   "execution_count": null,
   "metadata": {},
   "outputs": [],
   "source": []
  },
  {
   "cell_type": "code",
   "execution_count": null,
   "metadata": {},
   "outputs": [],
   "source": []
  }
 ],
 "metadata": {
  "accelerator": "GPU",
  "colab": {
   "name": "VIBDemo2021.ipynb",
   "provenance": []
  },
  "kernelspec": {
   "display_name": "venv",
   "language": "python",
   "name": "venv"
  },
  "language_info": {
   "codemirror_mode": {
    "name": "ipython",
    "version": 3
   },
   "file_extension": ".py",
   "mimetype": "text/x-python",
   "name": "python",
   "nbconvert_exporter": "python",
   "pygments_lexer": "ipython3",
   "version": "3.9.12"
  }
 },
 "nbformat": 4,
 "nbformat_minor": 4
}
