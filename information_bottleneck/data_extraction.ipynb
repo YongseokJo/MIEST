{
 "cells": [
  {
   "cell_type": "code",
   "execution_count": 2,
   "id": "cb646caf-38be-4907-97ac-aaf644d18252",
   "metadata": {},
   "outputs": [],
   "source": [
    "import pywph as pw\n",
    "import numpy as np\n",
    "import torch\n",
    "import torch.utils.data as data_utils\n",
    "from torch.utils.data.sampler import SubsetRandomSampler\n",
    "from sklearn.linear_model import LinearRegression, Ridge, RidgeCV, Lasso\n",
    "import sklearn\n",
    "import matplotlib.pyplot as plt\n",
    "# Device Config\n",
    "device = torch.device(\"cuda\" if torch.cuda.is_available() else \"cpu\")"
   ]
  },
  {
   "cell_type": "markdown",
   "id": "d40b0222-b235-4c25-8076-c8f3e68c82f7",
   "metadata": {},
   "source": [
    "## Gadget & Ramses"
   ]
  },
  {
   "cell_type": "code",
   "execution_count": 3,
   "id": "e21c3a21-405e-45ee-bdf7-6c0ac8a255e3",
   "metadata": {},
   "outputs": [],
   "source": [
    "fmap = \"/mnt/ceph/users/fvillaescusa/Nbody_systematics/data/maps/maps_Gadget/Images_M_Gadget_LH_z=0.00.npy\"\n",
    "gmap = np.load(fmap)\n",
    "fmap = \"/mnt/ceph/users/fvillaescusa/Nbody_systematics/data/maps/maps_Ramses/Images_M_Ramses_LH_z=0.00.npy\"\n",
    "rmap = np.load(fmap)"
   ]
  },
  {
   "cell_type": "code",
   "execution_count": 4,
   "id": "6e4014a3-2879-46cf-aef0-316dc2eab078",
   "metadata": {},
   "outputs": [
    {
     "name": "stderr",
     "output_type": "stream",
     "text": [
      "/tmp/ipykernel_3995025/1214241697.py:25: DeprecationWarning: Converting `np.complex` to a dtype is deprecated. The current result is `complex128` which is not strictly correct.\n",
      "  coef = np.zeros((N*batch_size,num_coeffs), dtype=np.complexfloating)\n"
     ]
    }
   ],
   "source": [
    "J = 7; L = 4; dn = 0\n",
    "maps = gmap\n",
    "nmaps = maps.reshape(maps.shape[0],-1)\n",
    "nmaps = (nmaps.T - nmaps.mean(axis=1))/nmaps.std(axis=1)\n",
    "#nmaps = (nmaps.T - nmaps.min(axis=1))/(nmaps.max(axis=1)-nmaps.min(axis=1)\n",
    "nmaps = nmaps.T.reshape(15000,256,256)\n",
    "\n",
    "M, N = 256, 256\n",
    "J = 7\n",
    "L = 4\n",
    "dn = 0\n",
    "try: \n",
    "    del coef\n",
    "except:\n",
    "    pass\n",
    "wph_op = pw.WPHOp(M, N, J, L=L, dn=dn, device=0)\n",
    "batch_size = 100\n",
    "N = int(15000/batch_size)\n",
    "for i in range(N):\n",
    "    wph = wph_op(nmaps[batch_size*i:batch_size*(i+1),:,:])\n",
    "    try:\n",
    "        coef[batch_size*i:batch_size*(i+1),:] = wph.cpu().detach().numpy()\n",
    "    except:\n",
    "        num_coeffs = wph.shape[1]\n",
    "        coef = np.zeros((N*batch_size,num_coeffs), dtype=np.complexfloating)\n",
    "        coef[batch_size*i:batch_size*(i+1),:] = wph.cpu().detach().numpy()\n",
    "np.save(\"../data/wph_nGadget_for_vib_total\",coef)"
   ]
  },
  {
   "cell_type": "code",
   "execution_count": 10,
   "id": "21725284-a523-4b47-b6c1-b9b1b8f83e21",
   "metadata": {},
   "outputs": [
    {
     "name": "stderr",
     "output_type": "stream",
     "text": [
      "/tmp/ipykernel_3995025/3525873.py:20: DeprecationWarning: Converting `np.complex` to a dtype is deprecated. The current result is `complex128` which is not strictly correct.\n",
      "  coef = np.zeros((N*batch_size,num_coeffs), dtype=np.complexfloating)\n"
     ]
    }
   ],
   "source": [
    "J = 7; L = 4; dn = 0\n",
    "\n",
    "M, N = 256, 256\n",
    "J = 7\n",
    "L = 4\n",
    "dn = 0\n",
    "try: \n",
    "    del coef\n",
    "except:\n",
    "    pass\n",
    "wph_op = pw.WPHOp(M, N, J, L=L, dn=dn, device=0)\n",
    "batch_size = 100\n",
    "N = int(15000/batch_size)\n",
    "for i in range(N):\n",
    "    wph = wph_op(gamp[batch_size*i:batch_size*(i+1),:,:])\n",
    "    try:\n",
    "        coef[batch_size*i:batch_size*(i+1),:] = wph.cpu().detach().numpy()\n",
    "    except:\n",
    "        num_coeffs = wph.shape[1]\n",
    "        coef = np.zeros((N*batch_size,num_coeffs), dtype=np.complexfloating)\n",
    "        coef[batch_size*i:batch_size*(i+1),:] = wph.cpu().detach().numpy()\n",
    "np.save(\"../data/wph_Gadget_for_vib_total\",coef)"
   ]
  },
  {
   "cell_type": "code",
   "execution_count": 5,
   "id": "29a48154-4487-47f6-8308-a99110927aff",
   "metadata": {},
   "outputs": [
    {
     "name": "stderr",
     "output_type": "stream",
     "text": [
      "/tmp/ipykernel_3995025/3421244878.py:25: DeprecationWarning: Converting `np.complex` to a dtype is deprecated. The current result is `complex128` which is not strictly correct.\n",
      "  coef = np.zeros((N*batch_size,num_coeffs), dtype=np.complexfloating)\n"
     ]
    }
   ],
   "source": [
    "J = 7; L = 4; dn = 0\n",
    "maps = rmap\n",
    "nmaps = maps.reshape(maps.shape[0],-1)\n",
    "nmaps = (nmaps.T - nmaps.mean(axis=1))/nmaps.std(axis=1)\n",
    "#nmaps = (nmaps.T - nmaps.min(axis=1))/(nmaps.max(axis=1)-nmaps.min(axis=1)\n",
    "nmaps = nmaps.T.reshape(15000,256,256)\n",
    "\n",
    "M, N = 256, 256\n",
    "J = 7\n",
    "L = 4\n",
    "dn = 0\n",
    "try: \n",
    "    del coef\n",
    "except:\n",
    "    pass\n",
    "wph_op = pw.WPHOp(M, N, J, L=L, dn=dn, device=0)\n",
    "batch_size = 100\n",
    "N = int(15000/batch_size)\n",
    "for i in range(N):\n",
    "    wph = wph_op(nmaps[batch_size*i:batch_size*(i+1),:,:])\n",
    "    try:\n",
    "        coef[batch_size*i:batch_size*(i+1),:] = wph.cpu().detach().numpy()\n",
    "    except:\n",
    "        num_coeffs = wph.shape[1]\n",
    "        coef = np.zeros((N*batch_size,num_coeffs), dtype=np.complexfloating)\n",
    "        coef[batch_size*i:batch_size*(i+1),:] = wph.cpu().detach().numpy()\n",
    "np.save(\"../data/wph_nRamses_for_vib_total\",coef)"
   ]
  },
  {
   "cell_type": "code",
   "execution_count": 11,
   "id": "25fd1485-2608-4947-9ab5-4fc5046699fd",
   "metadata": {},
   "outputs": [
    {
     "name": "stderr",
     "output_type": "stream",
     "text": [
      "/tmp/ipykernel_3995025/2788993317.py:20: DeprecationWarning: Converting `np.complex` to a dtype is deprecated. The current result is `complex128` which is not strictly correct.\n",
      "  coef = np.zeros((N*batch_size,num_coeffs), dtype=np.complexfloating)\n"
     ]
    }
   ],
   "source": [
    "J = 7; L = 4; dn = 0\n",
    "\n",
    "M, N = 256, 256\n",
    "J = 7\n",
    "L = 4\n",
    "dn = 0\n",
    "try: \n",
    "    del coef\n",
    "except:\n",
    "    pass\n",
    "wph_op = pw.WPHOp(M, N, J, L=L, dn=dn, device=0)\n",
    "batch_size = 100\n",
    "N = int(15000/batch_size)\n",
    "for i in range(N):\n",
    "    wph = wph_op(rmap[batch_size*i:batch_size*(i+1),:,:])\n",
    "    try:\n",
    "        coef[batch_size*i:batch_size*(i+1),:] = wph.cpu().detach().numpy()\n",
    "    except:\n",
    "        num_coeffs = wph.shape[1]\n",
    "        coef = np.zeros((N*batch_size,num_coeffs), dtype=np.complexfloating)\n",
    "        coef[batch_size*i:batch_size*(i+1),:] = wph.cpu().detach().numpy()\n",
    "np.save(\"../data/wph_Ramses_for_vib_total\",coef)"
   ]
  },
  {
   "cell_type": "markdown",
   "id": "f1bdb88f-64ee-4b2b-9eed-5f34f1df2e59",
   "metadata": {},
   "source": [
    "## TNG & SIMBA"
   ]
  },
  {
   "cell_type": "code",
   "execution_count": 7,
   "id": "d6b03847-c8b3-4df0-9a8e-ebff31032b1a",
   "metadata": {},
   "outputs": [],
   "source": [
    "fmaps = \\\n",
    "        \"/mnt/home/fvillaescusa/CAMELS/PUBLIC_RELEASE/CMD/2D_maps/data/Maps_Mtot_IllustrisTNG_LH_z=0.00.npy\"\n",
    "# read the data\n",
    "tng_maps = np.load(fmaps)\n",
    "fmaps = \\\n",
    "        \"/mnt/home/fvillaescusa/CAMELS/PUBLIC_RELEASE/CMD/2D_maps/data/Maps_Mtot_SIMBA_LH_z=0.00.npy\"\n",
    "# read the data\n",
    "simba_maps = np.load(fmaps)"
   ]
  },
  {
   "cell_type": "code",
   "execution_count": 8,
   "id": "71f398c4-310f-4137-8caa-88ca860358db",
   "metadata": {},
   "outputs": [
    {
     "name": "stderr",
     "output_type": "stream",
     "text": [
      "/tmp/ipykernel_3995025/2137144267.py:25: DeprecationWarning: Converting `np.complex` to a dtype is deprecated. The current result is `complex128` which is not strictly correct.\n",
      "  coef = np.zeros((N*batch_size,num_coeffs), dtype=np.complexfloating)\n"
     ]
    }
   ],
   "source": [
    "J = 7; L = 4; dn = 0\n",
    "maps = tng_maps\n",
    "nmaps = maps.reshape(maps.shape[0],-1)\n",
    "nmaps = (nmaps.T - nmaps.mean(axis=1))/nmaps.std(axis=1)\n",
    "#nmaps = (nmaps.T - nmaps.min(axis=1))/(nmaps.max(axis=1)-nmaps.min(axis=1)\n",
    "nmaps = nmaps.T.reshape(15000,256,256)\n",
    "\n",
    "M, N = 256, 256\n",
    "J = 7\n",
    "L = 4\n",
    "dn = 0\n",
    "try: \n",
    "    del coef\n",
    "except:\n",
    "    pass\n",
    "wph_op = pw.WPHOp(M, N, J, L=L, dn=dn, device=0)\n",
    "batch_size = 100\n",
    "N = int(15000/batch_size)\n",
    "for i in range(N):\n",
    "    wph = wph_op(nmaps[batch_size*i:batch_size*(i+1),:,:])\n",
    "    try:\n",
    "        coef[batch_size*i:batch_size*(i+1),:] = wph.cpu().detach().numpy()\n",
    "    except:\n",
    "        num_coeffs = wph.shape[1]\n",
    "        coef = np.zeros((N*batch_size,num_coeffs), dtype=np.complexfloating)\n",
    "        coef[batch_size*i:batch_size*(i+1),:] = wph.cpu().detach().numpy()\n",
    "np.save(\"../data/wph_nIllustrisTNG_for_vib_total\",coef)"
   ]
  },
  {
   "cell_type": "code",
   "execution_count": 12,
   "id": "e6f868b3-9ed0-4ea1-b2b0-3555d72bb4b6",
   "metadata": {},
   "outputs": [
    {
     "name": "stderr",
     "output_type": "stream",
     "text": [
      "/tmp/ipykernel_3995025/1593722814.py:20: DeprecationWarning: Converting `np.complex` to a dtype is deprecated. The current result is `complex128` which is not strictly correct.\n",
      "  coef = np.zeros((N*batch_size,num_coeffs), dtype=np.complexfloating)\n"
     ]
    }
   ],
   "source": [
    "J = 7; L = 4; dn = 0\n",
    "\n",
    "M, N = 256, 256\n",
    "J = 7\n",
    "L = 4\n",
    "dn = 0\n",
    "try: \n",
    "    del coef\n",
    "except:\n",
    "    pass\n",
    "wph_op = pw.WPHOp(M, N, J, L=L, dn=dn, device=0)\n",
    "batch_size = 100\n",
    "N = int(15000/batch_size)\n",
    "for i in range(N):\n",
    "    wph = wph_op(tng_maps[batch_size*i:batch_size*(i+1),:,:])\n",
    "    try:\n",
    "        coef[batch_size*i:batch_size*(i+1),:] = wph.cpu().detach().numpy()\n",
    "    except:\n",
    "        num_coeffs = wph.shape[1]\n",
    "        coef = np.zeros((N*batch_size,num_coeffs), dtype=np.complexfloating)\n",
    "        coef[batch_size*i:batch_size*(i+1),:] = wph.cpu().detach().numpy()\n",
    "np.save(\"../data/wph_IllustrisTNG_for_vib_total\",coef)"
   ]
  },
  {
   "cell_type": "code",
   "execution_count": 9,
   "id": "adf834dd-ff98-469b-944c-3481b1129706",
   "metadata": {},
   "outputs": [
    {
     "name": "stderr",
     "output_type": "stream",
     "text": [
      "/tmp/ipykernel_3995025/3633296260.py:25: DeprecationWarning: Converting `np.complex` to a dtype is deprecated. The current result is `complex128` which is not strictly correct.\n",
      "  coef = np.zeros((N*batch_size,num_coeffs), dtype=np.complexfloating)\n"
     ]
    }
   ],
   "source": [
    "J = 7; L = 4; dn = 0\n",
    "maps = simba_maps\n",
    "nmaps = maps.reshape(maps.shape[0],-1)\n",
    "nmaps = (nmaps.T - nmaps.mean(axis=1))/nmaps.std(axis=1)\n",
    "#nmaps = (nmaps.T - nmaps.min(axis=1))/(nmaps.max(axis=1)-nmaps.min(axis=1)\n",
    "nmaps = nmaps.T.reshape(15000,256,256)\n",
    "\n",
    "M, N = 256, 256\n",
    "J = 7\n",
    "L = 4\n",
    "dn = 0\n",
    "try: \n",
    "    del coef\n",
    "except:\n",
    "    pass\n",
    "wph_op = pw.WPHOp(M, N, J, L=L, dn=dn, device=0)\n",
    "batch_size = 100\n",
    "N = int(15000/batch_size)\n",
    "for i in range(N):\n",
    "    wph = wph_op(nmaps[batch_size*i:batch_size*(i+1),:,:])\n",
    "    try:\n",
    "        coef[batch_size*i:batch_size*(i+1),:] = wph.cpu().detach().numpy()\n",
    "    except:\n",
    "        num_coeffs = wph.shape[1]\n",
    "        coef = np.zeros((N*batch_size,num_coeffs), dtype=np.complexfloating)\n",
    "        coef[batch_size*i:batch_size*(i+1),:] = wph.cpu().detach().numpy()\n",
    "np.save(\"../data/wph_nSIMBA_for_vib_total\",coef)"
   ]
  },
  {
   "cell_type": "code",
   "execution_count": 13,
   "id": "838e2554-31c1-4e53-b745-f4b27c1b1316",
   "metadata": {},
   "outputs": [
    {
     "name": "stderr",
     "output_type": "stream",
     "text": [
      "/tmp/ipykernel_3995025/312814180.py:20: DeprecationWarning: Converting `np.complex` to a dtype is deprecated. The current result is `complex128` which is not strictly correct.\n",
      "  coef = np.zeros((N*batch_size,num_coeffs), dtype=np.complexfloating)\n"
     ]
    }
   ],
   "source": [
    "J = 7; L = 4; dn = 0\n",
    "\n",
    "M, N = 256, 256\n",
    "J = 7\n",
    "L = 4\n",
    "dn = 0\n",
    "try: \n",
    "    del coef\n",
    "except:\n",
    "    pass\n",
    "wph_op = pw.WPHOp(M, N, J, L=L, dn=dn, device=0)\n",
    "batch_size = 100\n",
    "N = int(15000/batch_size)\n",
    "for i in range(N):\n",
    "    wph = wph_op(nmaps[batch_size*i:batch_size*(i+1),:,:])\n",
    "    try:\n",
    "        coef[batch_size*i:batch_size*(i+1),:] = wph.cpu().detach().numpy()\n",
    "    except:\n",
    "        num_coeffs = wph.shape[1]\n",
    "        coef = np.zeros((N*batch_size,num_coeffs), dtype=np.complexfloating)\n",
    "        coef[batch_size*i:batch_size*(i+1),:] = wph.cpu().detach().numpy()\n",
    "np.save(\"../data/wph_SIMBA_for_vib_total\",coef)"
   ]
  },
  {
   "cell_type": "code",
   "execution_count": null,
   "id": "97c38eb7-5431-4075-afb6-bef009983de1",
   "metadata": {},
   "outputs": [],
   "source": []
  }
 ],
 "metadata": {
  "kernelspec": {
   "display_name": "venv",
   "language": "python",
   "name": "venv"
  },
  "language_info": {
   "codemirror_mode": {
    "name": "ipython",
    "version": 3
   },
   "file_extension": ".py",
   "mimetype": "text/x-python",
   "name": "python",
   "nbconvert_exporter": "python",
   "pygments_lexer": "ipython3",
   "version": "3.9.12"
  }
 },
 "nbformat": 4,
 "nbformat_minor": 5
}
